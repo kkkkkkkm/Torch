{
  "nbformat": 4,
  "nbformat_minor": 0,
  "metadata": {
    "colab": {
      "name": "word_RNN_using Embedding_not_Yet.ipynb",
      "provenance": [],
      "collapsed_sections": [],
      "authorship_tag": "ABX9TyNDMjLYbJLM4gAOnNGP/PTB",
      "include_colab_link": true
    },
    "kernelspec": {
      "name": "python3",
      "display_name": "Python 3"
    },
    "language_info": {
      "name": "python"
    }
  },
  "cells": [
    {
      "cell_type": "markdown",
      "metadata": {
        "id": "view-in-github",
        "colab_type": "text"
      },
      "source": [
        "<a href=\"https://colab.research.google.com/github/kkkkkkkm/Torch/blob/main/RNN/word_RNN_using_Embedding_not_Yet.ipynb\" target=\"_parent\"><img src=\"https://colab.research.google.com/assets/colab-badge.svg\" alt=\"Open In Colab\"/></a>"
      ]
    },
    {
      "cell_type": "code",
      "execution_count": 22,
      "metadata": {
        "id": "aHH524_VGpOE"
      },
      "outputs": [],
      "source": [
        "import torch\n",
        "import torch.nn\n",
        "import torch.optim as optim"
      ]
    },
    {
      "cell_type": "code",
      "source": [
        "sentence = \"Repeat is the best medicien for memory\".split() #띄어 쓰기를 기준으로 분리"
      ],
      "metadata": {
        "id": "7V0WTOMuGunK"
      },
      "execution_count": 23,
      "outputs": []
    },
    {
      "cell_type": "code",
      "source": [
        "print(sentence) #분리된 상황"
      ],
      "metadata": {
        "colab": {
          "base_uri": "https://localhost:8080/"
        },
        "id": "KwbMsgrhG5f4",
        "outputId": "b80d86af-c5a4-4d7e-e6f3-9d96387f5bab"
      },
      "execution_count": 24,
      "outputs": [
        {
          "output_type": "stream",
          "name": "stdout",
          "text": [
            "['Repeat', 'is', 'the', 'best', 'medicien', 'for', 'memory']\n"
          ]
        }
      ]
    },
    {
      "cell_type": "code",
      "source": [
        "vocab = list(set(sentence)) #중복 제거 후 list에 담음\n",
        "print(vocab) #vocab(단어장)의 사이즈는 label의 크기를 나타냄 "
      ],
      "metadata": {
        "colab": {
          "base_uri": "https://localhost:8080/"
        },
        "id": "02riW9WeG7YQ",
        "outputId": "73cd8df4-00ef-4319-9a95-3068e719aeb8"
      },
      "execution_count": 25,
      "outputs": [
        {
          "output_type": "stream",
          "name": "stdout",
          "text": [
            "['is', 'best', 'Repeat', 'the', 'memory', 'medicien', 'for']\n"
          ]
        }
      ]
    },
    {
      "cell_type": "code",
      "source": [
        "word2index = {tkn: i for i, tkn in enumerate(vocab, 1)} #enumerate start = 1\n",
        "word2index['<unk>'] = 0 #단어 사전에 unknown = 0 삽입"
      ],
      "metadata": {
        "id": "QOYag6WNG_9o"
      },
      "execution_count": 26,
      "outputs": []
    },
    {
      "cell_type": "code",
      "source": [
        "print(word2index) # (str : 정수) 타입 dict"
      ],
      "metadata": {
        "colab": {
          "base_uri": "https://localhost:8080/"
        },
        "id": "TCJajHfCHn2A",
        "outputId": "edb8f38c-4988-45a6-ab70-8a45ac8db4be"
      },
      "execution_count": 27,
      "outputs": [
        {
          "output_type": "stream",
          "name": "stdout",
          "text": [
            "{'is': 1, 'best': 2, 'Repeat': 3, 'the': 4, 'memory': 5, 'medicien': 6, 'for': 7, '<unk>': 0}\n"
          ]
        }
      ]
    },
    {
      "cell_type": "code",
      "source": [
        "print(word2index['memory'])"
      ],
      "metadata": {
        "colab": {
          "base_uri": "https://localhost:8080/"
        },
        "id": "2G5lkOieHvhH",
        "outputId": "af19afa8-ef84-40fd-c65b-3d07e71f287c"
      },
      "execution_count": 28,
      "outputs": [
        {
          "output_type": "stream",
          "name": "stdout",
          "text": [
            "5\n"
          ]
        }
      ]
    },
    {
      "cell_type": "code",
      "source": [
        "word2index.items()"
      ],
      "metadata": {
        "colab": {
          "base_uri": "https://localhost:8080/"
        },
        "id": "wUoI6OThIW__",
        "outputId": "630cc9f7-2288-4fb0-9ee7-22735c2c2993"
      },
      "execution_count": 29,
      "outputs": [
        {
          "output_type": "execute_result",
          "data": {
            "text/plain": [
              "dict_items([('is', 1), ('best', 2), ('Repeat', 3), ('the', 4), ('memory', 5), ('medicien', 6), ('for', 7), ('<unk>', 0)])"
            ]
          },
          "metadata": {},
          "execution_count": 29
        }
      ]
    },
    {
      "cell_type": "code",
      "source": [
        "index2word = {v:k for k ,v in word2index.items()} #word2index dictionary에 있는 값들을 전달해줌\n",
        "print(index2word)"
      ],
      "metadata": {
        "colab": {
          "base_uri": "https://localhost:8080/"
        },
        "id": "rTsrWbJEIHj_",
        "outputId": "21247bd2-d835-4340-f64b-36b61615178e"
      },
      "execution_count": 30,
      "outputs": [
        {
          "output_type": "stream",
          "name": "stdout",
          "text": [
            "{1: 'is', 2: 'best', 3: 'Repeat', 4: 'the', 5: 'memory', 6: 'medicien', 7: 'for', 0: '<unk>'}\n"
          ]
        }
      ]
    },
    {
      "cell_type": "code",
      "source": [
        "print(index2word[2])"
      ],
      "metadata": {
        "colab": {
          "base_uri": "https://localhost:8080/"
        },
        "id": "HjMGzgMHIpRo",
        "outputId": "a5502bad-5993-40bc-f066-88717e4078a5"
      },
      "execution_count": 31,
      "outputs": [
        {
          "output_type": "stream",
          "name": "stdout",
          "text": [
            "best\n"
          ]
        }
      ]
    },
    {
      "cell_type": "code",
      "source": [
        "def build_data(sentence, word2index):\n",
        "  encoded = [word2index[token] for token in sentence] #각 문자를 정수로 변환\n",
        "  input_seq, label_seq = encoded[:-1], encoded[1:] #현재 list형태 \n",
        "  input_seq = torch.LongTensor(input_seq).unsqueeze(0) #list를 tensor로 변경 후 현재 1차원 벡터인 input_seq을 unsqueeze(0)을 통해 배치가 1인 2차원 벡터로 변경\n",
        "  label_seq = torch.LongTensor(label_seq).unsqueeze(0) #위와 같음\n",
        "  \n",
        "  return input_seq, label_seq"
      ],
      "metadata": {
        "id": "Hi1lXTz0Iu-q"
      },
      "execution_count": 45,
      "outputs": []
    },
    {
      "cell_type": "code",
      "source": [
        "X, Y = build_data(sentence, word2index)"
      ],
      "metadata": {
        "id": "06jFWRWLf_Lp"
      },
      "execution_count": 46,
      "outputs": []
    },
    {
      "cell_type": "code",
      "source": [
        "print(X)\n",
        "print(Y)"
      ],
      "metadata": {
        "colab": {
          "base_uri": "https://localhost:8080/"
        },
        "id": "9APBJKGfgDYI",
        "outputId": "c797bc9a-60c8-4480-e420-5337e1e43d0a"
      },
      "execution_count": 47,
      "outputs": [
        {
          "output_type": "stream",
          "name": "stdout",
          "text": [
            "tensor([[3, 1, 4, 2, 6, 7]])\n",
            "tensor([[1, 4, 2, 6, 7, 5]])\n"
          ]
        }
      ]
    },
    {
      "cell_type": "code",
      "source": [
        "class Net(nn.Module):\n",
        "  \n",
        "  def __init__(self, vocab_size, input_size ,hidden_size, batch_first = True):\n",
        "    super(Net, self).__init__()\n",
        "    self.embedding_layer = nn.Embedding(num_embedding = vocab_size, embedding_dim = input_size) #num_embedding은 단어장의 크기가 들어오고(입력차원의 크기), embedding_dim은 embedding 벡터의 차원(출력차원)\n",
        "\n",
        "    self.rnn_layer = nn.RNN(input_size, hidden_size, batch_first = True) #입력 차원 크기 = input_size, 출력차원의 크기 = hidden_size\n",
        "    self.linear = nn.Linear(hidden_size, vocab_size) #입력은 hidden_size 만큼 받아서 vocab_size로 출력, 후에 정답을 맞추기 쉽게\n",
        "\n",
        " def forward(self, x):\n",
        "   # 1. 임베딩 층\n",
        "   # 크기 변화 : (배치, 시퀀스 길이) => 배치, 시퀀스 , 임베딩 차원\n",
        "   output = self.embedding_layer(x)\n",
        "  # 2. RNN 층\n",
        "  # 크기변화 (배치, 시퀀스, 임베딩 차원)\n",
        "  # => output = (배치크기, 시퀀스 길이, 은닉층 크기), hidden(마지막 시점의 은닉상태) = (1, 배치크기, 은닉층 크기) 1은 층의 숫자를 의미함\n",
        "   output, hidden = self.rnn_layer(output)\n",
        "\n",
        "   output = self.linear(output)"
      ],
      "metadata": {
        "id": "MtmdM5IqgGJC"
      },
      "execution_count": null,
      "outputs": []
    }
  ]
}