{
  "nbformat": 4,
  "nbformat_minor": 0,
  "metadata": {
    "colab": {
      "name": "torch_longSeq.ipynb",
      "provenance": [],
      "collapsed_sections": [],
      "authorship_tag": "ABX9TyOpAQkhw/T6/Myy9cpABQ4n",
      "include_colab_link": true
    },
    "kernelspec": {
      "name": "python3",
      "display_name": "Python 3"
    },
    "language_info": {
      "name": "python"
    }
  },
  "cells": [
    {
      "cell_type": "markdown",
      "metadata": {
        "id": "view-in-github",
        "colab_type": "text"
      },
      "source": [
        "<a href=\"https://colab.research.google.com/github/kkkkkkkm/Torch/blob/main/RNN/torch_longSeq.ipynb\" target=\"_parent\"><img src=\"https://colab.research.google.com/assets/colab-badge.svg\" alt=\"Open In Colab\"/></a>"
      ]
    },
    {
      "cell_type": "code",
      "source": [
        "import torch\n",
        "import torch.nn as nn\n",
        "import torch.optim as optim\n",
        "import numpy as np"
      ],
      "metadata": {
        "id": "ubEcroeEdmQo"
      },
      "execution_count": 1,
      "outputs": []
    },
    {
      "cell_type": "code",
      "execution_count": 2,
      "metadata": {
        "id": "GJrk0TR7YZcf"
      },
      "outputs": [],
      "source": [
        "sentence = (\"if you want to build a ship, don't drum up people together to \"\n",
        "            \"collect wood and don't assign them tasks and work, but rather \"\n",
        "            \"teach them to long for the endless immensity of the sea.\") #데이터"
      ]
    },
    {
      "cell_type": "code",
      "source": [
        "print(sentence)\n",
        "print(len(sentence))"
      ],
      "metadata": {
        "colab": {
          "base_uri": "https://localhost:8080/"
        },
        "id": "z7O0_YHcfImV",
        "outputId": "79ac2426-d604-449f-a109-0b665cdf1a28"
      },
      "execution_count": 3,
      "outputs": [
        {
          "output_type": "stream",
          "name": "stdout",
          "text": [
            "if you want to build a ship, don't drum up people together to collect wood and don't assign them tasks and work, but rather teach them to long for the endless immensity of the sea.\n",
            "180\n"
          ]
        }
      ]
    },
    {
      "cell_type": "code",
      "source": [
        "char_set = list(set(sentence))\n",
        "print(char_set)"
      ],
      "metadata": {
        "colab": {
          "base_uri": "https://localhost:8080/"
        },
        "id": "6gbyxDPBeM4e",
        "outputId": "9265ea17-f8bb-43ab-e8da-ff46e2c1ae85"
      },
      "execution_count": 4,
      "outputs": [
        {
          "output_type": "stream",
          "name": "stdout",
          "text": [
            "['f', 's', 'y', 'w', 'e', ',', 't', 'c', 'n', 'a', 'i', 'r', 'p', 'g', 'b', '.', 'l', 'o', \"'\", 'u', 'h', ' ', 'k', 'm', 'd']\n"
          ]
        }
      ]
    },
    {
      "cell_type": "code",
      "source": [
        "char_dic = {c: i for i, c in enumerate(char_set)}\n",
        "print(char_dic)"
      ],
      "metadata": {
        "colab": {
          "base_uri": "https://localhost:8080/"
        },
        "id": "khYE-HsDeRMW",
        "outputId": "0b399173-1225-4a55-c055-beef4517ab6e"
      },
      "execution_count": 5,
      "outputs": [
        {
          "output_type": "stream",
          "name": "stdout",
          "text": [
            "{'f': 0, 's': 1, 'y': 2, 'w': 3, 'e': 4, ',': 5, 't': 6, 'c': 7, 'n': 8, 'a': 9, 'i': 10, 'r': 11, 'p': 12, 'g': 13, 'b': 14, '.': 15, 'l': 16, 'o': 17, \"'\": 18, 'u': 19, 'h': 20, ' ': 21, 'k': 22, 'm': 23, 'd': 24}\n"
          ]
        }
      ]
    },
    {
      "cell_type": "code",
      "source": [
        "dic_size = len(char_dic) \n",
        "print(f\"사전 크기 {dic_size}\") #사전크기, 총 label의 개 수 "
      ],
      "metadata": {
        "colab": {
          "base_uri": "https://localhost:8080/"
        },
        "id": "voqBcHGreikf",
        "outputId": "b684b543-52ca-402d-a031-88b7595bcdb0"
      },
      "execution_count": 6,
      "outputs": [
        {
          "output_type": "stream",
          "name": "stdout",
          "text": [
            "사전 크기 25\n"
          ]
        }
      ]
    },
    {
      "cell_type": "code",
      "source": [
        "hidden_size = dic_size\n",
        "sequence_length = 10\n",
        "learning_rate = 0.1"
      ],
      "metadata": {
        "id": "Ss_Z8ZvYetXF"
      },
      "execution_count": 7,
      "outputs": []
    },
    {
      "cell_type": "code",
      "source": [
        "#데이터 구성\n",
        "x_data = []\n",
        "y_data = []\n",
        "\n",
        "for i in range(0, len(sentence) - sequence_length):   #sequence_length 길이로 자를 예정, 0~10, ~ 170~180 \n",
        "  x_str = sentence[i: i+sequence_length] #문자열 저장이 list형태 x_str도 list 형태\n",
        "  y_str = sentence[i+1 : i+1 + sequence_length]\n",
        "\n",
        "  print(i, x_str ,'->', y_str)\n",
        "\n",
        "  x_data.append([char_dic[c] for c in x_str]) #x_str list에서 글자를 꺼내 char_dic에 넣어 글자에 대응 되는 index 뽑아오기\n",
        "  y_data.append([char_dic[c] for c in y_str]) #위와 같은 형태로 label 설정\n",
        "\n",
        "#170개의 데이터 생성"
      ],
      "metadata": {
        "colab": {
          "base_uri": "https://localhost:8080/"
        },
        "id": "7FCbnjFhe6jd",
        "outputId": "c6f18159-0a6f-409e-a4ff-dababbac370f"
      },
      "execution_count": 8,
      "outputs": [
        {
          "output_type": "stream",
          "name": "stdout",
          "text": [
            "0 if you wan -> f you want\n",
            "1 f you want ->  you want \n",
            "2  you want  -> you want t\n",
            "3 you want t -> ou want to\n",
            "4 ou want to -> u want to \n",
            "5 u want to  ->  want to b\n",
            "6  want to b -> want to bu\n",
            "7 want to bu -> ant to bui\n",
            "8 ant to bui -> nt to buil\n",
            "9 nt to buil -> t to build\n",
            "10 t to build ->  to build \n",
            "11  to build  -> to build a\n",
            "12 to build a -> o build a \n",
            "13 o build a  ->  build a s\n",
            "14  build a s -> build a sh\n",
            "15 build a sh -> uild a shi\n",
            "16 uild a shi -> ild a ship\n",
            "17 ild a ship -> ld a ship,\n",
            "18 ld a ship, -> d a ship, \n",
            "19 d a ship,  ->  a ship, d\n",
            "20  a ship, d -> a ship, do\n",
            "21 a ship, do ->  ship, don\n",
            "22  ship, don -> ship, don'\n",
            "23 ship, don' -> hip, don't\n",
            "24 hip, don't -> ip, don't \n",
            "25 ip, don't  -> p, don't d\n",
            "26 p, don't d -> , don't dr\n",
            "27 , don't dr ->  don't dru\n",
            "28  don't dru -> don't drum\n",
            "29 don't drum -> on't drum \n",
            "30 on't drum  -> n't drum u\n",
            "31 n't drum u -> 't drum up\n",
            "32 't drum up -> t drum up \n",
            "33 t drum up  ->  drum up p\n",
            "34  drum up p -> drum up pe\n",
            "35 drum up pe -> rum up peo\n",
            "36 rum up peo -> um up peop\n",
            "37 um up peop -> m up peopl\n",
            "38 m up peopl ->  up people\n",
            "39  up people -> up people \n",
            "40 up people  -> p people t\n",
            "41 p people t ->  people to\n",
            "42  people to -> people tog\n",
            "43 people tog -> eople toge\n",
            "44 eople toge -> ople toget\n",
            "45 ople toget -> ple togeth\n",
            "46 ple togeth -> le togethe\n",
            "47 le togethe -> e together\n",
            "48 e together ->  together \n",
            "49  together  -> together t\n",
            "50 together t -> ogether to\n",
            "51 ogether to -> gether to \n",
            "52 gether to  -> ether to c\n",
            "53 ether to c -> ther to co\n",
            "54 ther to co -> her to col\n",
            "55 her to col -> er to coll\n",
            "56 er to coll -> r to colle\n",
            "57 r to colle ->  to collec\n",
            "58  to collec -> to collect\n",
            "59 to collect -> o collect \n",
            "60 o collect  ->  collect w\n",
            "61  collect w -> collect wo\n",
            "62 collect wo -> ollect woo\n",
            "63 ollect woo -> llect wood\n",
            "64 llect wood -> lect wood \n",
            "65 lect wood  -> ect wood a\n",
            "66 ect wood a -> ct wood an\n",
            "67 ct wood an -> t wood and\n",
            "68 t wood and ->  wood and \n",
            "69  wood and  -> wood and d\n",
            "70 wood and d -> ood and do\n",
            "71 ood and do -> od and don\n",
            "72 od and don -> d and don'\n",
            "73 d and don' ->  and don't\n",
            "74  and don't -> and don't \n",
            "75 and don't  -> nd don't a\n",
            "76 nd don't a -> d don't as\n",
            "77 d don't as ->  don't ass\n",
            "78  don't ass -> don't assi\n",
            "79 don't assi -> on't assig\n",
            "80 on't assig -> n't assign\n",
            "81 n't assign -> 't assign \n",
            "82 't assign  -> t assign t\n",
            "83 t assign t ->  assign th\n",
            "84  assign th -> assign the\n",
            "85 assign the -> ssign them\n",
            "86 ssign them -> sign them \n",
            "87 sign them  -> ign them t\n",
            "88 ign them t -> gn them ta\n",
            "89 gn them ta -> n them tas\n",
            "90 n them tas ->  them task\n",
            "91  them task -> them tasks\n",
            "92 them tasks -> hem tasks \n",
            "93 hem tasks  -> em tasks a\n",
            "94 em tasks a -> m tasks an\n",
            "95 m tasks an ->  tasks and\n",
            "96  tasks and -> tasks and \n",
            "97 tasks and  -> asks and w\n",
            "98 asks and w -> sks and wo\n",
            "99 sks and wo -> ks and wor\n",
            "100 ks and wor -> s and work\n",
            "101 s and work ->  and work,\n",
            "102  and work, -> and work, \n",
            "103 and work,  -> nd work, b\n",
            "104 nd work, b -> d work, bu\n",
            "105 d work, bu ->  work, but\n",
            "106  work, but -> work, but \n",
            "107 work, but  -> ork, but r\n",
            "108 ork, but r -> rk, but ra\n",
            "109 rk, but ra -> k, but rat\n",
            "110 k, but rat -> , but rath\n",
            "111 , but rath ->  but rathe\n",
            "112  but rathe -> but rather\n",
            "113 but rather -> ut rather \n",
            "114 ut rather  -> t rather t\n",
            "115 t rather t ->  rather te\n",
            "116  rather te -> rather tea\n",
            "117 rather tea -> ather teac\n",
            "118 ather teac -> ther teach\n",
            "119 ther teach -> her teach \n",
            "120 her teach  -> er teach t\n",
            "121 er teach t -> r teach th\n",
            "122 r teach th ->  teach the\n",
            "123  teach the -> teach them\n",
            "124 teach them -> each them \n",
            "125 each them  -> ach them t\n",
            "126 ach them t -> ch them to\n",
            "127 ch them to -> h them to \n",
            "128 h them to  ->  them to l\n",
            "129  them to l -> them to lo\n",
            "130 them to lo -> hem to lon\n",
            "131 hem to lon -> em to long\n",
            "132 em to long -> m to long \n",
            "133 m to long  ->  to long f\n",
            "134  to long f -> to long fo\n",
            "135 to long fo -> o long for\n",
            "136 o long for ->  long for \n",
            "137  long for  -> long for t\n",
            "138 long for t -> ong for th\n",
            "139 ong for th -> ng for the\n",
            "140 ng for the -> g for the \n",
            "141 g for the  ->  for the e\n",
            "142  for the e -> for the en\n",
            "143 for the en -> or the end\n",
            "144 or the end -> r the endl\n",
            "145 r the endl ->  the endle\n",
            "146  the endle -> the endles\n",
            "147 the endles -> he endless\n",
            "148 he endless -> e endless \n",
            "149 e endless  ->  endless i\n",
            "150  endless i -> endless im\n",
            "151 endless im -> ndless imm\n",
            "152 ndless imm -> dless imme\n",
            "153 dless imme -> less immen\n",
            "154 less immen -> ess immens\n",
            "155 ess immens -> ss immensi\n",
            "156 ss immensi -> s immensit\n",
            "157 s immensit ->  immensity\n",
            "158  immensity -> immensity \n",
            "159 immensity  -> mmensity o\n",
            "160 mmensity o -> mensity of\n",
            "161 mensity of -> ensity of \n",
            "162 ensity of  -> nsity of t\n",
            "163 nsity of t -> sity of th\n",
            "164 sity of th -> ity of the\n",
            "165 ity of the -> ty of the \n",
            "166 ty of the  -> y of the s\n",
            "167 y of the s ->  of the se\n",
            "168  of the se -> of the sea\n",
            "169 of the sea -> f the sea.\n"
          ]
        }
      ]
    },
    {
      "cell_type": "code",
      "source": [
        "print(x_data)"
      ],
      "metadata": {
        "colab": {
          "base_uri": "https://localhost:8080/"
        },
        "id": "gZQD13zVhv3p",
        "outputId": "d8fd6032-ab4f-4d49-e9ea-ff7d67162695"
      },
      "execution_count": 9,
      "outputs": [
        {
          "output_type": "stream",
          "name": "stdout",
          "text": [
            "[[10, 0, 21, 2, 17, 19, 21, 3, 9, 8], [0, 21, 2, 17, 19, 21, 3, 9, 8, 6], [21, 2, 17, 19, 21, 3, 9, 8, 6, 21], [2, 17, 19, 21, 3, 9, 8, 6, 21, 6], [17, 19, 21, 3, 9, 8, 6, 21, 6, 17], [19, 21, 3, 9, 8, 6, 21, 6, 17, 21], [21, 3, 9, 8, 6, 21, 6, 17, 21, 14], [3, 9, 8, 6, 21, 6, 17, 21, 14, 19], [9, 8, 6, 21, 6, 17, 21, 14, 19, 10], [8, 6, 21, 6, 17, 21, 14, 19, 10, 16], [6, 21, 6, 17, 21, 14, 19, 10, 16, 24], [21, 6, 17, 21, 14, 19, 10, 16, 24, 21], [6, 17, 21, 14, 19, 10, 16, 24, 21, 9], [17, 21, 14, 19, 10, 16, 24, 21, 9, 21], [21, 14, 19, 10, 16, 24, 21, 9, 21, 1], [14, 19, 10, 16, 24, 21, 9, 21, 1, 20], [19, 10, 16, 24, 21, 9, 21, 1, 20, 10], [10, 16, 24, 21, 9, 21, 1, 20, 10, 12], [16, 24, 21, 9, 21, 1, 20, 10, 12, 5], [24, 21, 9, 21, 1, 20, 10, 12, 5, 21], [21, 9, 21, 1, 20, 10, 12, 5, 21, 24], [9, 21, 1, 20, 10, 12, 5, 21, 24, 17], [21, 1, 20, 10, 12, 5, 21, 24, 17, 8], [1, 20, 10, 12, 5, 21, 24, 17, 8, 18], [20, 10, 12, 5, 21, 24, 17, 8, 18, 6], [10, 12, 5, 21, 24, 17, 8, 18, 6, 21], [12, 5, 21, 24, 17, 8, 18, 6, 21, 24], [5, 21, 24, 17, 8, 18, 6, 21, 24, 11], [21, 24, 17, 8, 18, 6, 21, 24, 11, 19], [24, 17, 8, 18, 6, 21, 24, 11, 19, 23], [17, 8, 18, 6, 21, 24, 11, 19, 23, 21], [8, 18, 6, 21, 24, 11, 19, 23, 21, 19], [18, 6, 21, 24, 11, 19, 23, 21, 19, 12], [6, 21, 24, 11, 19, 23, 21, 19, 12, 21], [21, 24, 11, 19, 23, 21, 19, 12, 21, 12], [24, 11, 19, 23, 21, 19, 12, 21, 12, 4], [11, 19, 23, 21, 19, 12, 21, 12, 4, 17], [19, 23, 21, 19, 12, 21, 12, 4, 17, 12], [23, 21, 19, 12, 21, 12, 4, 17, 12, 16], [21, 19, 12, 21, 12, 4, 17, 12, 16, 4], [19, 12, 21, 12, 4, 17, 12, 16, 4, 21], [12, 21, 12, 4, 17, 12, 16, 4, 21, 6], [21, 12, 4, 17, 12, 16, 4, 21, 6, 17], [12, 4, 17, 12, 16, 4, 21, 6, 17, 13], [4, 17, 12, 16, 4, 21, 6, 17, 13, 4], [17, 12, 16, 4, 21, 6, 17, 13, 4, 6], [12, 16, 4, 21, 6, 17, 13, 4, 6, 20], [16, 4, 21, 6, 17, 13, 4, 6, 20, 4], [4, 21, 6, 17, 13, 4, 6, 20, 4, 11], [21, 6, 17, 13, 4, 6, 20, 4, 11, 21], [6, 17, 13, 4, 6, 20, 4, 11, 21, 6], [17, 13, 4, 6, 20, 4, 11, 21, 6, 17], [13, 4, 6, 20, 4, 11, 21, 6, 17, 21], [4, 6, 20, 4, 11, 21, 6, 17, 21, 7], [6, 20, 4, 11, 21, 6, 17, 21, 7, 17], [20, 4, 11, 21, 6, 17, 21, 7, 17, 16], [4, 11, 21, 6, 17, 21, 7, 17, 16, 16], [11, 21, 6, 17, 21, 7, 17, 16, 16, 4], [21, 6, 17, 21, 7, 17, 16, 16, 4, 7], [6, 17, 21, 7, 17, 16, 16, 4, 7, 6], [17, 21, 7, 17, 16, 16, 4, 7, 6, 21], [21, 7, 17, 16, 16, 4, 7, 6, 21, 3], [7, 17, 16, 16, 4, 7, 6, 21, 3, 17], [17, 16, 16, 4, 7, 6, 21, 3, 17, 17], [16, 16, 4, 7, 6, 21, 3, 17, 17, 24], [16, 4, 7, 6, 21, 3, 17, 17, 24, 21], [4, 7, 6, 21, 3, 17, 17, 24, 21, 9], [7, 6, 21, 3, 17, 17, 24, 21, 9, 8], [6, 21, 3, 17, 17, 24, 21, 9, 8, 24], [21, 3, 17, 17, 24, 21, 9, 8, 24, 21], [3, 17, 17, 24, 21, 9, 8, 24, 21, 24], [17, 17, 24, 21, 9, 8, 24, 21, 24, 17], [17, 24, 21, 9, 8, 24, 21, 24, 17, 8], [24, 21, 9, 8, 24, 21, 24, 17, 8, 18], [21, 9, 8, 24, 21, 24, 17, 8, 18, 6], [9, 8, 24, 21, 24, 17, 8, 18, 6, 21], [8, 24, 21, 24, 17, 8, 18, 6, 21, 9], [24, 21, 24, 17, 8, 18, 6, 21, 9, 1], [21, 24, 17, 8, 18, 6, 21, 9, 1, 1], [24, 17, 8, 18, 6, 21, 9, 1, 1, 10], [17, 8, 18, 6, 21, 9, 1, 1, 10, 13], [8, 18, 6, 21, 9, 1, 1, 10, 13, 8], [18, 6, 21, 9, 1, 1, 10, 13, 8, 21], [6, 21, 9, 1, 1, 10, 13, 8, 21, 6], [21, 9, 1, 1, 10, 13, 8, 21, 6, 20], [9, 1, 1, 10, 13, 8, 21, 6, 20, 4], [1, 1, 10, 13, 8, 21, 6, 20, 4, 23], [1, 10, 13, 8, 21, 6, 20, 4, 23, 21], [10, 13, 8, 21, 6, 20, 4, 23, 21, 6], [13, 8, 21, 6, 20, 4, 23, 21, 6, 9], [8, 21, 6, 20, 4, 23, 21, 6, 9, 1], [21, 6, 20, 4, 23, 21, 6, 9, 1, 22], [6, 20, 4, 23, 21, 6, 9, 1, 22, 1], [20, 4, 23, 21, 6, 9, 1, 22, 1, 21], [4, 23, 21, 6, 9, 1, 22, 1, 21, 9], [23, 21, 6, 9, 1, 22, 1, 21, 9, 8], [21, 6, 9, 1, 22, 1, 21, 9, 8, 24], [6, 9, 1, 22, 1, 21, 9, 8, 24, 21], [9, 1, 22, 1, 21, 9, 8, 24, 21, 3], [1, 22, 1, 21, 9, 8, 24, 21, 3, 17], [22, 1, 21, 9, 8, 24, 21, 3, 17, 11], [1, 21, 9, 8, 24, 21, 3, 17, 11, 22], [21, 9, 8, 24, 21, 3, 17, 11, 22, 5], [9, 8, 24, 21, 3, 17, 11, 22, 5, 21], [8, 24, 21, 3, 17, 11, 22, 5, 21, 14], [24, 21, 3, 17, 11, 22, 5, 21, 14, 19], [21, 3, 17, 11, 22, 5, 21, 14, 19, 6], [3, 17, 11, 22, 5, 21, 14, 19, 6, 21], [17, 11, 22, 5, 21, 14, 19, 6, 21, 11], [11, 22, 5, 21, 14, 19, 6, 21, 11, 9], [22, 5, 21, 14, 19, 6, 21, 11, 9, 6], [5, 21, 14, 19, 6, 21, 11, 9, 6, 20], [21, 14, 19, 6, 21, 11, 9, 6, 20, 4], [14, 19, 6, 21, 11, 9, 6, 20, 4, 11], [19, 6, 21, 11, 9, 6, 20, 4, 11, 21], [6, 21, 11, 9, 6, 20, 4, 11, 21, 6], [21, 11, 9, 6, 20, 4, 11, 21, 6, 4], [11, 9, 6, 20, 4, 11, 21, 6, 4, 9], [9, 6, 20, 4, 11, 21, 6, 4, 9, 7], [6, 20, 4, 11, 21, 6, 4, 9, 7, 20], [20, 4, 11, 21, 6, 4, 9, 7, 20, 21], [4, 11, 21, 6, 4, 9, 7, 20, 21, 6], [11, 21, 6, 4, 9, 7, 20, 21, 6, 20], [21, 6, 4, 9, 7, 20, 21, 6, 20, 4], [6, 4, 9, 7, 20, 21, 6, 20, 4, 23], [4, 9, 7, 20, 21, 6, 20, 4, 23, 21], [9, 7, 20, 21, 6, 20, 4, 23, 21, 6], [7, 20, 21, 6, 20, 4, 23, 21, 6, 17], [20, 21, 6, 20, 4, 23, 21, 6, 17, 21], [21, 6, 20, 4, 23, 21, 6, 17, 21, 16], [6, 20, 4, 23, 21, 6, 17, 21, 16, 17], [20, 4, 23, 21, 6, 17, 21, 16, 17, 8], [4, 23, 21, 6, 17, 21, 16, 17, 8, 13], [23, 21, 6, 17, 21, 16, 17, 8, 13, 21], [21, 6, 17, 21, 16, 17, 8, 13, 21, 0], [6, 17, 21, 16, 17, 8, 13, 21, 0, 17], [17, 21, 16, 17, 8, 13, 21, 0, 17, 11], [21, 16, 17, 8, 13, 21, 0, 17, 11, 21], [16, 17, 8, 13, 21, 0, 17, 11, 21, 6], [17, 8, 13, 21, 0, 17, 11, 21, 6, 20], [8, 13, 21, 0, 17, 11, 21, 6, 20, 4], [13, 21, 0, 17, 11, 21, 6, 20, 4, 21], [21, 0, 17, 11, 21, 6, 20, 4, 21, 4], [0, 17, 11, 21, 6, 20, 4, 21, 4, 8], [17, 11, 21, 6, 20, 4, 21, 4, 8, 24], [11, 21, 6, 20, 4, 21, 4, 8, 24, 16], [21, 6, 20, 4, 21, 4, 8, 24, 16, 4], [6, 20, 4, 21, 4, 8, 24, 16, 4, 1], [20, 4, 21, 4, 8, 24, 16, 4, 1, 1], [4, 21, 4, 8, 24, 16, 4, 1, 1, 21], [21, 4, 8, 24, 16, 4, 1, 1, 21, 10], [4, 8, 24, 16, 4, 1, 1, 21, 10, 23], [8, 24, 16, 4, 1, 1, 21, 10, 23, 23], [24, 16, 4, 1, 1, 21, 10, 23, 23, 4], [16, 4, 1, 1, 21, 10, 23, 23, 4, 8], [4, 1, 1, 21, 10, 23, 23, 4, 8, 1], [1, 1, 21, 10, 23, 23, 4, 8, 1, 10], [1, 21, 10, 23, 23, 4, 8, 1, 10, 6], [21, 10, 23, 23, 4, 8, 1, 10, 6, 2], [10, 23, 23, 4, 8, 1, 10, 6, 2, 21], [23, 23, 4, 8, 1, 10, 6, 2, 21, 17], [23, 4, 8, 1, 10, 6, 2, 21, 17, 0], [4, 8, 1, 10, 6, 2, 21, 17, 0, 21], [8, 1, 10, 6, 2, 21, 17, 0, 21, 6], [1, 10, 6, 2, 21, 17, 0, 21, 6, 20], [10, 6, 2, 21, 17, 0, 21, 6, 20, 4], [6, 2, 21, 17, 0, 21, 6, 20, 4, 21], [2, 21, 17, 0, 21, 6, 20, 4, 21, 1], [21, 17, 0, 21, 6, 20, 4, 21, 1, 4], [17, 0, 21, 6, 20, 4, 21, 1, 4, 9]]\n"
          ]
        }
      ]
    },
    {
      "cell_type": "code",
      "source": [
        "print(\"x_data\", x_data[0])\n",
        "print(\"y_data\", y_data[0])"
      ],
      "metadata": {
        "colab": {
          "base_uri": "https://localhost:8080/"
        },
        "id": "5VrfP-ffhAT9",
        "outputId": "fa806e51-d43a-44cf-a8e4-b7578ed2ad27"
      },
      "execution_count": 10,
      "outputs": [
        {
          "output_type": "stream",
          "name": "stdout",
          "text": [
            "x_data [10, 0, 21, 2, 17, 19, 21, 3, 9, 8]\n",
            "y_data [0, 21, 2, 17, 19, 21, 3, 9, 8, 6]\n"
          ]
        }
      ]
    },
    {
      "cell_type": "code",
      "source": [
        "x_one_hot = [np.eye(dic_size)[i] for i in x_data]\n",
        "X = torch.FloatTensor(x_one_hot)\n",
        "Y = torch.LongTensor(y_data)"
      ],
      "metadata": {
        "colab": {
          "base_uri": "https://localhost:8080/"
        },
        "id": "u9wbaIAphOk9",
        "outputId": "21ff0f19-7002-4720-b74a-b805bdb22ed8"
      },
      "execution_count": 11,
      "outputs": [
        {
          "output_type": "stream",
          "name": "stderr",
          "text": [
            "/usr/local/lib/python3.7/dist-packages/ipykernel_launcher.py:2: UserWarning: Creating a tensor from a list of numpy.ndarrays is extremely slow. Please consider converting the list to a single numpy.ndarray with numpy.array() before converting to a tensor. (Triggered internally at  ../torch/csrc/utils/tensor_new.cpp:201.)\n",
            "  \n"
          ]
        }
      ]
    },
    {
      "cell_type": "code",
      "source": [
        "print(f\"훈련 데이터 크기 {X.shape}\")\n",
        "print(f\"레이블 크기 {Y.shape}\")"
      ],
      "metadata": {
        "colab": {
          "base_uri": "https://localhost:8080/"
        },
        "id": "iCIUw_bAh3ck",
        "outputId": "8d27e615-0d66-4b32-c6dd-8f4c49b11d7a"
      },
      "execution_count": 12,
      "outputs": [
        {
          "output_type": "stream",
          "name": "stdout",
          "text": [
            "훈련 데이터 크기 torch.Size([170, 10, 25])\n",
            "레이블 크기 torch.Size([170, 10])\n"
          ]
        }
      ]
    },
    {
      "cell_type": "code",
      "source": [
        "print(X[0])\n",
        "print(Y[0])"
      ],
      "metadata": {
        "colab": {
          "base_uri": "https://localhost:8080/"
        },
        "id": "L5WmZLFqh8qV",
        "outputId": "09c6b79f-05fe-43ae-f13f-d06c799da38d"
      },
      "execution_count": 13,
      "outputs": [
        {
          "output_type": "stream",
          "name": "stdout",
          "text": [
            "tensor([[0., 0., 0., 0., 0., 0., 0., 0., 0., 0., 1., 0., 0., 0., 0., 0., 0., 0.,\n",
            "         0., 0., 0., 0., 0., 0., 0.],\n",
            "        [1., 0., 0., 0., 0., 0., 0., 0., 0., 0., 0., 0., 0., 0., 0., 0., 0., 0.,\n",
            "         0., 0., 0., 0., 0., 0., 0.],\n",
            "        [0., 0., 0., 0., 0., 0., 0., 0., 0., 0., 0., 0., 0., 0., 0., 0., 0., 0.,\n",
            "         0., 0., 0., 1., 0., 0., 0.],\n",
            "        [0., 0., 1., 0., 0., 0., 0., 0., 0., 0., 0., 0., 0., 0., 0., 0., 0., 0.,\n",
            "         0., 0., 0., 0., 0., 0., 0.],\n",
            "        [0., 0., 0., 0., 0., 0., 0., 0., 0., 0., 0., 0., 0., 0., 0., 0., 0., 1.,\n",
            "         0., 0., 0., 0., 0., 0., 0.],\n",
            "        [0., 0., 0., 0., 0., 0., 0., 0., 0., 0., 0., 0., 0., 0., 0., 0., 0., 0.,\n",
            "         0., 1., 0., 0., 0., 0., 0.],\n",
            "        [0., 0., 0., 0., 0., 0., 0., 0., 0., 0., 0., 0., 0., 0., 0., 0., 0., 0.,\n",
            "         0., 0., 0., 1., 0., 0., 0.],\n",
            "        [0., 0., 0., 1., 0., 0., 0., 0., 0., 0., 0., 0., 0., 0., 0., 0., 0., 0.,\n",
            "         0., 0., 0., 0., 0., 0., 0.],\n",
            "        [0., 0., 0., 0., 0., 0., 0., 0., 0., 1., 0., 0., 0., 0., 0., 0., 0., 0.,\n",
            "         0., 0., 0., 0., 0., 0., 0.],\n",
            "        [0., 0., 0., 0., 0., 0., 0., 0., 1., 0., 0., 0., 0., 0., 0., 0., 0., 0.,\n",
            "         0., 0., 0., 0., 0., 0., 0.]])\n",
            "tensor([ 0, 21,  2, 17, 19, 21,  3,  9,  8,  6])\n"
          ]
        }
      ]
    },
    {
      "cell_type": "code",
      "source": [
        "class RNN(nn.Module):\n",
        "  def __init__(self, input_dim, hidden_size, layers):\n",
        "    super(RNN, self).__init__()\n",
        "\n",
        "    self.rnn = nn.RNN(input_dim, hidden_size, num_layers = layers, batch_first = True)\n",
        "    self.fc = nn.Linear(hidden_size, hidden_size, bias= True)\n",
        "  \n",
        "  def forward(self, x):\n",
        "    out, _states = self.rnn(x)\n",
        "    out = self.fc(out)\n",
        "\n",
        "\n",
        "    return out"
      ],
      "metadata": {
        "id": "uysMwUopiRT1"
      },
      "execution_count": 27,
      "outputs": []
    },
    {
      "cell_type": "code",
      "source": [
        "model = RNN(dic_size, hidden_size, 2)"
      ],
      "metadata": {
        "id": "RIDcTPhGj_ah"
      },
      "execution_count": 28,
      "outputs": []
    },
    {
      "cell_type": "code",
      "source": [
        "criterion = torch.nn.CrossEntropyLoss()\n",
        "optimizer= torch.optim.Adam(model.parameters(), lr = learning_rate)"
      ],
      "metadata": {
        "id": "fnTBL3CLkJHr"
      },
      "execution_count": 29,
      "outputs": []
    },
    {
      "cell_type": "code",
      "source": [
        "outputs = model(X)\n",
        "\n",
        "print(outputs.shape)\n"
      ],
      "metadata": {
        "colab": {
          "base_uri": "https://localhost:8080/"
        },
        "id": "vFYr1_JRmTDE",
        "outputId": "6ea86f0d-700f-438e-d182-99678230341e"
      },
      "execution_count": 30,
      "outputs": [
        {
          "output_type": "stream",
          "name": "stdout",
          "text": [
            "torch.Size([170, 10, 25])\n"
          ]
        }
      ]
    },
    {
      "cell_type": "code",
      "source": [
        "print(outputs.view(-1, dic_size).shape) #모든 시점의 값을 Fully connected 층으로 연결"
      ],
      "metadata": {
        "colab": {
          "base_uri": "https://localhost:8080/"
        },
        "id": "TRlQPUktpdo_",
        "outputId": "b689a8fc-e247-4807-838e-967e90c661be"
      },
      "execution_count": 31,
      "outputs": [
        {
          "output_type": "stream",
          "name": "stdout",
          "text": [
            "torch.Size([1700, 25])\n"
          ]
        }
      ]
    },
    {
      "cell_type": "code",
      "source": [
        "print(Y.shape)\n",
        "print(Y.view(-1).shape)"
      ],
      "metadata": {
        "colab": {
          "base_uri": "https://localhost:8080/"
        },
        "id": "ZlqDReSl3gu-",
        "outputId": "75f590d2-60ad-47be-cfbb-372c444785b9"
      },
      "execution_count": 32,
      "outputs": [
        {
          "output_type": "stream",
          "name": "stdout",
          "text": [
            "torch.Size([170, 10])\n",
            "torch.Size([1700])\n"
          ]
        }
      ]
    },
    {
      "cell_type": "code",
      "source": [
        "for i in range(100):\n",
        "  optimizer.zero_grad()\n",
        "  outputs = model(X)\n",
        "\n",
        "  loss = criterion(outputs.view(-1, dic_size), Y.view(-1)) #batch 차원 제거를 위해.\n",
        "\n",
        "  loss.backward()\n",
        "  optimizer.step()\n",
        "\n",
        "  results = outputs.argmax(dim=2)\n",
        "\n",
        "  predict_str = \"\"\n",
        "\n",
        "  for j , result in enumerate(results):\n",
        "    if j == 0: #처음에는 모든 예측값 가져옴\n",
        "      predict_str += ''.join([char_set[t] for t in result])\n",
        "    else:\n",
        "      predict_str += char_set[result[-1]]\n",
        "\n",
        "  print(predict_str)"
      ],
      "metadata": {
        "colab": {
          "base_uri": "https://localhost:8080/"
        },
        "id": "pstJN1_i3yy_",
        "outputId": "4b9f8eaf-56c7-42d7-a109-c54263d28f14"
      },
      "execution_count": 33,
      "outputs": [
        {
          "output_type": "stream",
          "name": "stdout",
          "text": [
            "aaaa.,a.u.aaa.aa.a.aauaaaaa.a....aa.faaa.aa.....uf..,uaaafaa.aa.p.uf.a.....u..au.a.aaa.aaaa.aaap.au.p.a.u.a..f..aa.aaauaaafaauaaaaaaap.a.a..a.aa.paauaa.u.uaaaaaaaua.paaa.a.aaaa.pu\n",
            "oci iiiciiii iiciiiii iiiiiii iiici iiiiiii iiiiii iiiiiiiiiiiciiiiiii iiii iiiiiiiii iiiiiiciiiiiiiiii iii iiiii iii iiiiiiiiiiii iiiiiiiciiiiiiiiciiiiiiciiiiiiiiiiiiiiciiiiiiiii\n",
            "oooo ooooo ooooooooooooooooooooototoooooooooooooooooooooooooooooooooooooooooooooootooo oooooooooooooooooooooootooooooooooootooooooooooooooooooooootoootoooooootooooooooooooooootooo\n",
            " 'g  'd b''l.'gll.g'l''l..'l'ld'wl''dl.'..'''.b'lb'llg'l''ll'''l''dl.'l.''l'''l''''lb''l''.'ll'gll''lll''ll.''glc''l''d'b'.b'l'wll'gl''.''ll''bl''ll'g'l''dl''ll''''l''l''''.'''.l'\n",
            "e dada  dhta la e hla thkaah' ka  ' ka ed ' ld d a la a aaa  ' la da l ha ahhaa lat lhsa  dahla ' ed  l saa aaa rhaaa k  ada  a aa ga lhh' la g ha   aah  daaaa aaaaaaaaa aa 'aaaaa\n",
            "  e  t th  a hnut   ant tt  n   t a    t en d e ashh   an a tn   ena nnhntt   adnnn an   t e a  tnt   a t t nen nnt   a    t e        t en    t  na a    t    t s tn t   hnn t t an\n",
            "  t  nat   t    t   e       a o   a      t    t    to     t      t                  ao  n  t t        a     ot  a t   at t t t   a  t        t        a  n t         n             \n",
            "   o      pt  p     toa  p  a   ap  a  potp    p  oto      o a  a  t l  p  o      l  oe tpat toup  ot         l  o     p    ot     a   o a  o p a t     ap    l   po  o ao l  p    \n",
            "   o t  u  ao    p  aotm m  d e ttd  t  o p  o p  o oepe   o e  d p  t  m, o     mt do  t d   o       e e   e p toe         o p  e e   o w  o   e t     dm  l o  lpp    oo t  p   m\n",
            "   o md o   o   tt  eot   d w dmduwo t  o te o t  ono  e eto o  t  totonmeto  dhdmtowo tt d   o    t  dodhe e t tothe d e  ao me dotm  ont  m ao hth  d dme dtt  otmo o oo t  m  dh\n",
            "t,aontd   ,ao t it  dothd d thdkdoeodb, odtd e e  o  n dhdto e  d oiotonkttos dhdktmdodkt dm to ao  s dod d dhtktoththdhe dto td dhd d o t  t  odhths d d d t to  t,  o  o t   dhdh\n",
            "t to t,not,to t tt  tothelentne',ten i lo t,r  o to mort  tott nt  t tonl,iot t t'toeotit dt to to    tntct o t iot e t tr to  t tot ,lo t  t t ekths t e  l  e   t  to lo i  od th\n",
            "t to t not to tott  totoele eoel,tendt to t l to to  oltl to t  e  totont,to  t ettoendit dt  o to t  entit n t eot t t er to teneott lo to t tookt e t e ot  t  it  to ro toto  t \n",
            "t to teont to t tt oaothtt  to 'toaodt tr ten to e   e e  to t  e  t en ' toe the't aod e eto r to  e doe ton t aotoe e e  tot t toe  to to t torkt e e e e e tu it  to  o to ee e \n",
            "t to teorm to thtt oarthe e ao ', aoet tr t   to a   e e  to t  e o  eo   toe t e't aos ioato a toe e ans tork, aot t e e  to  t ao   to to t torkt e erd  t  t  i s t  ro to eeoeo\n",
            "t tor'toud to thtt naot e e aor', aoe' tr t   to do    el to to e r  tork toe ton't aos tnetoea toe   aos tork, aoi trt er to  t aoe  torto ' torkt e ers ors t   tn t  eo to  eoa \n",
            "t tontton' tortot enardh    aor't aod' artperdeo to at e  to to e at aook tod donkt aos eoet ea toe   aos tonk, aot wot er toe t ahe  torto ' tonkthe drd  ns to  rs t  eo to  dod \n",
            "t tonttont to tot nntodhipe don't dod' aptper io th kt r  to to e at aoum eod ton't dos  ost ep tos   aod wonk, aot wot er toep, ahe  tonto i tonkthe dnd en  to  assth ao to  dod \n",
            "t tonttont eo tot n todhipe don't aod' apipem to t  mt e  to th s at aonm eod aon't ap i ost ep tos s dnd eonkt aot wot er tonmh the  tonbo i wonkthe end end tp  nsii  an to  dod \n",
            "t ten tont to tot n tothipe don't apnt apipem to t est e  to to s  t aont tod aon't apsi ost ep tosks dnd wonkt aot aother tonmh them aonbo i tonkthe end ens ipt nd t  an toe tht \n",
            "t te  tont to totln dothtpe don't aon' aniperdto theot er to bo eert aont tos aon't apsi nit em toskt dnt wonk, bot aother tonmh them tonbo s tonkthe end en  tpt nd th an toemtht \n",
            "t ten tont to totld dothlpe don't aon' aniper to thgother to boelert wond tod aon't aosilo t em toskt dnt wonk, bot aother toute them tonbo g tonkthe end ens tpt nsith on toe thrp\n",
            "m ten tont to toild dothipe don't ao m onioe  le theet er to to le t wond aod won't do ilo them to kt dnd wonk, bot nother toeth them tonbo g ton the tns ens tot nsith oo toe dod \n",
            "m ten tont to boile dothipe don't do m osile  le thgethe  to boeee t wond wod won't do igo t em tosks tnd wonk, aot aothe  toute them toubong tonkthe endlens tom nsith an the dod \n",
            "m ten tont to boile dothipe don't drum onile ple thgesher to boele t wond wod won't dr ignsthem tosks dnd wonk, bui wother todth them to bong won the tns e s trm ns th ao the sos \n",
            "mhten tort to build a thip, don't drum osice ple toeether to bo ee t wond rnd dou't dr igo them tosks dnd wonk, bui wrther todth them to bong won the end e s trm ns th ao the sod \n",
            "mhten tont to tuipd a ship, don't drum osioe ple thgeteer to boee  t wond and won't ds igo them tosks dnd word, tui arther todth them to bong ton the eod ens tr ensith ao the sod \n",
            "mhien tont to tuipd asship, don't asum nsipenple toeether to theeect wood and ton't as igo them tosks and wonk, tni aother todth them to tong ton the endle s tmm nsith oo the tod \n",
            "mhien tont wo tuild a ship, don't aoum npipensle toeether to thelect wood and ton't assigo them tosks and wonk, bni nother torth them to tnng ton the endle s tmmensith oo the eot \n",
            "m ien tont to tuild a ship, don't aoum npioentle togeteer to loelect wood and don't assiga them tosks and wonk, bni aother todth them to bnng ton the eodle s immensity oo the eot \n",
            "m ien wont to build a ship, don't arum oplpenple toeether to loelect wood and don't assign them tosks and wonkt but aather todch them to bong fon the end e s immensity oo the eot \n",
            "m ien wont to build a ship, don't arum oplpenple thgeteer to bollect wond and don't assignsthem tosks and wonk, but wather toach them to bong for the endle s immensith oo the tos \n",
            "m ien wont to build a ship, don't arum uplpeosle thgether te collect wood and don't assign them tosks and wonk, but aother torch them to bong for the endle s immensith oo the soss\n",
            "phien wont to build a thip, don't arum up pecple thgether te collect wood and don't assign them tosks and work, but rather torch them to long for the eodle s immensith of the eos \n",
            "phien wont to build a thip, don't arum up penple thgether te collect wood and don't assign them tosks and work, but rather toach them to long for the eodless immensith of the soss\n",
            "phion wont to build a ship, don't arum up people thgether to collect wood and don't assign them tosks and work, but rather toach them to long for the endless immensity of the soss\n",
            "phton wont to build a ship, don't drum up people together to collect wood and don't dssign them tosks and work, but rather toach them to long for the endless immensity of the soss\n",
            "phton wont to build a ship, don't arum up people together to collect wood and don't dssign them tosks and work, but rather toach them to long for the end ess immensity of the sots\n",
            "phton wont to build a ship, don't arum up people together to collect wood and don't assign them tosks and work, but rather toach them to long for the endless immensity of the sots\n",
            "phion wont to build a ship, don't arum up people together te collect wood and don't dssign them tosks and work, but rather teach them to long for the endless immensity of the soto\n",
            "phion wont to build a ship, don't drum up people together te collect wood and don't dssign them tosks and work, but rather teach them to long for the endless immensity of the shto\n",
            "phion wont to build a ship, don't drum up people together te collect wood and don't dssign them tosks and work, but rather teach them to long for the endless immensity of the soto\n",
            "phion wont to build a ship, don't drum up people together te collect wood and don't dssign them tosks and work, but rather teach them to long for the endless immensity of the eet \n",
            "phion wont to build a ship, don't arum up people together te collect wood and don't dssign them tasks and work, but rather teach them to long for the endless immensity of the sets\n",
            "p iou wont to build a ship, don't drum up people together te collect wood and don't dssign them tasks and work, but rather teach them to long for the endless immensity of the sets\n",
            "p iou wont to build a ship, don't drum up people together te collect wood and don't dssign them tosks and work, but rather teach them to long for the endless immensity of the sets\n",
            "p iou wont to build a ship, don't arum up people together to collect wood and don't assign them tasks and work, but rather toach them to long for the endless immensity of the sets\n",
            "p iou wont to build a ship, don't arum up people together to collect wood and don't assign them tasks and work, but rather toach them to long for the endless immensity of the seto\n",
            "p iou wont to build a ship, don't arum up people together te collect wood and don't assign them tasks and work, but rather teach them to long for the endless immensity of the seto\n",
            "p iou wont to build a ship, don't drum up people together te collect wood and don't dssign them tasks and work, but rather teach them ta long for the endless immensity of the seto\n",
            "p tou wont to build a ship, don't drum up people together te collect wood and don't dssign them tasks and work, but rather teach them ta long for the endless immensity of the seto\n",
            "p tou wont to build a ship, don't arum up people together te collect wood and don't assign them tasks and work, but rather teach them ta long for the endless immensity of the seao\n",
            "t iou wont to build a ship, don't arum up people together te collect wood and don't assign them tosks and work, but rather teach them to long for the endless immensity of the sea \n",
            "t iou want to build a ship, don't drum up people together te collect wood and don't dssign them tosks and work, but rather teach them to long for the endless immensity of the seao\n",
            "t iou want to build a ship, don't drum up people together te collect wood and don't dssign them tosks and work, but rather teach them to long for the endless immensity of the seap\n",
            "m iou want to build a ship, don't arum up people together to collect wood and don't assign them tosks and work, but rather teach them to long for the endless immensity of the seap\n",
            "m iou want to build a ship, don't drum up people together to collect wood and don't dssign them tosks and work, but rather toach them to long for the endless immensity of the seao\n",
            "m iou want to build a ship, don't drum up people together to collect wood and don't dssign them tosks and work, but rather toach them to long for the endless immensity of the seao\n",
            "m iou want to build a ship, don't drum up people together to collect wood and don't dssign them tasks and work, but rather toach them to long for the endless immensity of the seao\n",
            "m tou want to build a ship, don't drum up people together to collect wood and don't assign them tosks and work, but rather toach them to long for the endless immensity of the sea.\n",
            "m tou want to build a ship, don't arum up people together to collect wood and don't assign them tasks and work, but rather toach them to long for the endless immensity of the sea.\n",
            "m tou want to build a ship, don't drum up people together to collect wood and don't assign them tasks and work, but rather toach them to long for the endless immensity of the sea.\n",
            "m iou want to build a ship, don't drum up people together to collect wood and don't dssign them tasks and work, but rather toach them to long for the endless immensity of the sea.\n",
            "g iou want to build a ship, don't drum up people together to collect wood and don't assign them tosks and work, but rather toach them to long for the endless immensity of the sea.\n",
            "m iou want to build a ship, don't arum up people together to collect wood and don't assign them tasks and work, but rather toach them to long for the endless immensity of the sea.\n",
            "m you want to build a ship, don't drum up people together to collect wood and don't assign them tasks and work, but rather toach them to long for the endless immensity of the sea.\n",
            "f you want to build a ship, don't arum up people together to collect wood and don't assign them tasks and work, but rather toach them to long for the endless immensity of the sea.\n",
            "p you want to build a ship, don't drum up people together to collect wood and don't dssign them tosks and work, but rather toach them to long for the endless immensity of the sea.\n",
            "p you want to build a ship, don't arum up people together to collect wood and don't assign them tasks and work, but rather toach them to long for the endless immensity of the sea.\n",
            "p you want to build a ship, don't drum up people together to collect wood and don't dssign them tosks and work, but rather toach them to long for the endless immensity of the sea.\n",
            "p you want to build a ship, don't arum up people together to collect wood and don't assign them tasks and work, but rather toach them to long for the endless immensity of the sea.\n",
            "p you want to build a ship, don't arum up people together to collect wood and don't assign them tasks and work, but rather toach them to long for the endless immensity of the sea.\n",
            "p you want to build a ship, don't drum up people together to collect wood and don't dssign them tasks and work, but rather toach them to long for the endless immensity of the sea.\n",
            "p you want to build a ship, don't drum up people together to collect wood and don't dssign them tasks and work, but rather toach them to long for the endless immensity of the sea.\n",
            "p you want to build a ship, don't drum up people together to collect wood and don't dssign them tasks and work, but rather toach them to long for the endless immensity of the sea.\n",
            "p you want to build a ship, don't arum up people together to collect wood and don't assign them tasks and work, but rather toach them to long for the endless immensity of the sea.\n",
            "p you want to build a ship, don't arum up people together to collect wood and don't assign them tasks and work, but rather toach them to long for the endless immensity of the sea.\n",
            "p you want to build a ship, don't arum up people together to collect wood and don't assign them tasks and work, but rather toach them to long for the endless immensity of the sea.\n",
            "p you want to build a ship, don't drum up people together to collect wood and don't dssign them tasks and work, but rather toach them to long for the endless immensity of the sea.\n",
            "p you want to build a ship, don't drum up people together to collect wood and don't dssign them tasks and work, but rather toach them to long for the endless immensity of the sea.\n",
            "p you want to build a ship, don't drum up people together to collect wood and don't dssign them tasks and work, but rather teach them to long for the endless immensity of the sea.\n",
            "t you want to build a ship, don't drum up people together to collect wood and don't assign them tasks and work, but rather teach them to long for the endless immensity of the sea.\n",
            "t you want to build a ship, don't drum up people together to collect wood and don't assign them tasks and work, but rather teach them to long for the endless immensity of the sea.\n",
            "t you want to build a ship, don't arum up people together to collect wood and don't assign them tasks and work, but rather teach them to long for the endless immensity of the sea.\n",
            "t you want to build a ship, don't arum up people together to collect wood and don't assign them tasks and work, but rather toach them to long for the endless immensity of the sea.\n",
            "t you want to build a ship, don't drum up people together to collect wood and don't assign them tasks and work, but rather teach them to long for the endless immensity of the sea.\n",
            "m you want to build a ship, don't drum up people together to collect wood and don't dssign them tasks and work, but rather teach them to long for the endless immensity of the sea.\n",
            "m you want to build a ship, don't drum up people together to collect wood and don't assign them tasks and work, but rather teach them to long for the endless immensity of the sea.\n",
            "m you want to build a ship, don't drum up people together to collect wood and don't assign them tasks and work, but rather teach them to long for the endless immensity of the sea.\n",
            "m you want to build a ship, don't drum up people together to collect wood and don't assign them tasks and work, but rather teach them to long for the endless immensity of the sea.\n",
            "m you want to build a ship, don't drum up people together to collect wood and don't assign them tasks and work, but rather teach them to long for the endless immensity of the sea.\n",
            "l you want to build a ship, don't drum up people together to collect wood and don't assign them tasks and work, but rather teach them to long for the endless immensity of the sea.\n",
            "p you want to build a ship, don't drum up people together to collect wood and don't assign them tasks and work, but rather teach them to long for the endless immensity of the sea.\n",
            "p you want to build a ship, don't drum up people together to collect wood and don't assign them tasks and work, but rather teach them to long for the endless immensity of the sea.\n",
            "p you want to build a ship, don't drum up people together to collect wood and don't assign them tasks and work, but rather teach them to long for the endless immensity of the sea.\n",
            "p you want to build a ship, don't drum up people together to collect wood and don't assign them tasks and work, but rather teach them to long for the endless immensity of the sea.\n",
            "p you want to build a ship, don't drum up people together to collect wood and don't assign them tasks and work, but rather teach them to long for the endless immensity of the sea.\n",
            "p you want to build a ship, don't drum up people together to collect wood and don't assign them tasks and work, but rather teach them to long for the endless immensity of the sea.\n",
            "p you want to build a ship, don't drum up people together to collect wood and don't assign them tasks and work, but rather teach them to long for the endless immensity of the sea.\n",
            "p you want to build a ship, don't drum up people together to collect wood and don't assign them tasks and work, but rather teach them to long for the endless immensity of the sea.\n"
          ]
        }
      ]
    },
    {
      "cell_type": "code",
      "source": [
        "results = outputs.argmax(dim= 2)"
      ],
      "metadata": {
        "id": "mlID5zuI7ao2"
      },
      "execution_count": 34,
      "outputs": []
    },
    {
      "cell_type": "code",
      "source": [
        "results"
      ],
      "metadata": {
        "colab": {
          "base_uri": "https://localhost:8080/"
        },
        "id": "URt4JQpx7wKt",
        "outputId": "a23cc9cc-d411-4d2e-c250-9fb728d1b174"
      },
      "execution_count": 25,
      "outputs": [
        {
          "output_type": "execute_result",
          "data": {
            "text/plain": [
              "tensor([[12, 21,  2,  ...,  9,  8,  6],\n",
              "        [21,  2, 17,  ...,  8,  6, 21],\n",
              "        [ 6, 17, 19,  ...,  6, 21,  6],\n",
              "        ...,\n",
              "        [21, 17,  0,  ..., 21,  1,  4],\n",
              "        [ 6,  0, 21,  ...,  1,  4,  9],\n",
              "        [ 8, 21,  6,  ...,  4,  9, 15]])"
            ]
          },
          "metadata": {},
          "execution_count": 25
        }
      ]
    },
    {
      "cell_type": "code",
      "source": [
        ""
      ],
      "metadata": {
        "id": "fSm43uDX9IoE"
      },
      "execution_count": null,
      "outputs": []
    }
  ]
}