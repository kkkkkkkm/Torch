{
  "nbformat": 4,
  "nbformat_minor": 0,
  "metadata": {
    "colab": {
      "name": "char_seq.ipynb",
      "provenance": [],
      "authorship_tag": "ABX9TyOZbXXEUxPk8I7xrts0pA+q",
      "include_colab_link": true
    },
    "kernelspec": {
      "name": "python3",
      "display_name": "Python 3"
    },
    "language_info": {
      "name": "python"
    }
  },
  "cells": [
    {
      "cell_type": "markdown",
      "metadata": {
        "id": "view-in-github",
        "colab_type": "text"
      },
      "source": [
        "<a href=\"https://colab.research.google.com/github/kkkkkkkm/Torch/blob/main/RNN/char_seq.ipynb\" target=\"_parent\"><img src=\"https://colab.research.google.com/assets/colab-badge.svg\" alt=\"Open In Colab\"/></a>"
      ]
    },
    {
      "cell_type": "code",
      "source": [
        "import numpy as np\n",
        "import torch"
      ],
      "metadata": {
        "id": "yEkJKeawNRsZ"
      },
      "execution_count": 1,
      "outputs": []
    },
    {
      "cell_type": "code",
      "execution_count": 2,
      "metadata": {
        "id": "f2wLcEpW5oL-"
      },
      "outputs": [],
      "source": [
        "sample = \"if you want you\""
      ]
    },
    {
      "cell_type": "code",
      "source": [
        "char_set = list(set(sample)) #중복된 character 제거, unique character list 생성\n",
        "print(char_set)"
      ],
      "metadata": {
        "colab": {
          "base_uri": "https://localhost:8080/"
        },
        "id": "I7D0V3DY5sl2",
        "outputId": "6d373f5d-fe0e-4f25-ffd1-94977ee5f815"
      },
      "execution_count": 3,
      "outputs": [
        {
          "output_type": "stream",
          "name": "stdout",
          "text": [
            "[' ', 'i', 'u', 'a', 'n', 'f', 'o', 'y', 'w', 't']\n"
          ]
        }
      ]
    },
    {
      "cell_type": "code",
      "source": [
        "char_dict = {c: i for i, c in enumerate(char_set)} #enumerate를 사용하여 dictionary 생성 character와 index 할당\n",
        "print(char_dict)"
      ],
      "metadata": {
        "colab": {
          "base_uri": "https://localhost:8080/"
        },
        "id": "MThN6lTQ5v2I",
        "outputId": "61cd8c4f-d70e-4f3a-8105-d3d74390b354"
      },
      "execution_count": 4,
      "outputs": [
        {
          "output_type": "stream",
          "name": "stdout",
          "text": [
            "{' ': 0, 'i': 1, 'u': 2, 'a': 3, 'n': 4, 'f': 5, 'o': 6, 'y': 7, 'w': 8, 't': 9}\n"
          ]
        }
      ]
    },
    {
      "cell_type": "code",
      "source": [
        "dict_size = len(char_dict)\n",
        "hidden_size = len(char_dict)\n",
        "learning_rate = 0.1\n",
        "\n",
        "print(f\" dict_size = {dict_size}, hidden_size = {hidden_size}\")"
      ],
      "metadata": {
        "colab": {
          "base_uri": "https://localhost:8080/"
        },
        "id": "FPx9W-Ed6eYN",
        "outputId": "6a5af584-3fcd-41b0-8dea-ac9c9ef93128"
      },
      "execution_count": 5,
      "outputs": [
        {
          "output_type": "stream",
          "name": "stdout",
          "text": [
            " dict_size = 10, hidden_size = 10\n"
          ]
        }
      ]
    },
    {
      "cell_type": "code",
      "source": [
        "sample_idx = [char_dict[i] for i in sample] #만든 vocabulary에 sample의 글자를 넣어서 sample 인덱스 값 추출\n",
        "print(sample_idx)"
      ],
      "metadata": {
        "colab": {
          "base_uri": "https://localhost:8080/"
        },
        "id": "U5t9FLq86lPl",
        "outputId": "e9ee5013-1151-4aec-df5c-be6cac7b4a16"
      },
      "execution_count": 6,
      "outputs": [
        {
          "output_type": "stream",
          "name": "stdout",
          "text": [
            "[1, 5, 0, 7, 6, 2, 0, 8, 3, 4, 9, 0, 7, 6, 2]\n"
          ]
        }
      ]
    },
    {
      "cell_type": "code",
      "source": [
        "x_data = [sample_idx[:-1]]\n",
        "print(x_data)\n",
        "y_data = [sample_idx[1:]]\n",
        "print(y_data)"
      ],
      "metadata": {
        "colab": {
          "base_uri": "https://localhost:8080/"
        },
        "id": "OiSOR0GYMr2a",
        "outputId": "70edfae2-299a-437e-e48b-8a7e9c9aa4a8"
      },
      "execution_count": 7,
      "outputs": [
        {
          "output_type": "stream",
          "name": "stdout",
          "text": [
            "[[1, 5, 0, 7, 6, 2, 0, 8, 3, 4, 9, 0, 7, 6]]\n",
            "[[5, 0, 7, 6, 2, 0, 8, 3, 4, 9, 0, 7, 6, 2]]\n"
          ]
        }
      ]
    },
    {
      "cell_type": "code",
      "source": [
        "x_one_hot = [np.eye(dict_size)[x] for x in x_data] #크기가 dict_size인 identity matrix 생성 후 [x]번째 행을 가져와서 list에 담음\n",
        "print(x_one_hot)"
      ],
      "metadata": {
        "colab": {
          "base_uri": "https://localhost:8080/"
        },
        "id": "ri8yD2CqNMjS",
        "outputId": "3cfb0579-2cc0-4210-ff8c-9ebaf2e203cf"
      },
      "execution_count": 8,
      "outputs": [
        {
          "output_type": "stream",
          "name": "stdout",
          "text": [
            "[array([[0., 1., 0., 0., 0., 0., 0., 0., 0., 0.],\n",
            "       [0., 0., 0., 0., 0., 1., 0., 0., 0., 0.],\n",
            "       [1., 0., 0., 0., 0., 0., 0., 0., 0., 0.],\n",
            "       [0., 0., 0., 0., 0., 0., 0., 1., 0., 0.],\n",
            "       [0., 0., 0., 0., 0., 0., 1., 0., 0., 0.],\n",
            "       [0., 0., 1., 0., 0., 0., 0., 0., 0., 0.],\n",
            "       [1., 0., 0., 0., 0., 0., 0., 0., 0., 0.],\n",
            "       [0., 0., 0., 0., 0., 0., 0., 0., 1., 0.],\n",
            "       [0., 0., 0., 1., 0., 0., 0., 0., 0., 0.],\n",
            "       [0., 0., 0., 0., 1., 0., 0., 0., 0., 0.],\n",
            "       [0., 0., 0., 0., 0., 0., 0., 0., 0., 1.],\n",
            "       [1., 0., 0., 0., 0., 0., 0., 0., 0., 0.],\n",
            "       [0., 0., 0., 0., 0., 0., 0., 1., 0., 0.],\n",
            "       [0., 0., 0., 0., 0., 0., 1., 0., 0., 0.]])]\n"
          ]
        }
      ]
    },
    {
      "cell_type": "code",
      "source": [
        "X = torch.FloatTensor(x_one_hot)\n",
        "Y = torch.LongTensor(y_data)\n",
        "print(f' X = {X}, Y = {Y}')\n",
        "print(X.shape)"
      ],
      "metadata": {
        "colab": {
          "base_uri": "https://localhost:8080/"
        },
        "id": "b71qdzgQNz4r",
        "outputId": "699cdcb5-4c8b-4153-e927-e16c6246e83c"
      },
      "execution_count": 9,
      "outputs": [
        {
          "output_type": "stream",
          "name": "stdout",
          "text": [
            " X = tensor([[[0., 1., 0., 0., 0., 0., 0., 0., 0., 0.],\n",
            "         [0., 0., 0., 0., 0., 1., 0., 0., 0., 0.],\n",
            "         [1., 0., 0., 0., 0., 0., 0., 0., 0., 0.],\n",
            "         [0., 0., 0., 0., 0., 0., 0., 1., 0., 0.],\n",
            "         [0., 0., 0., 0., 0., 0., 1., 0., 0., 0.],\n",
            "         [0., 0., 1., 0., 0., 0., 0., 0., 0., 0.],\n",
            "         [1., 0., 0., 0., 0., 0., 0., 0., 0., 0.],\n",
            "         [0., 0., 0., 0., 0., 0., 0., 0., 1., 0.],\n",
            "         [0., 0., 0., 1., 0., 0., 0., 0., 0., 0.],\n",
            "         [0., 0., 0., 0., 1., 0., 0., 0., 0., 0.],\n",
            "         [0., 0., 0., 0., 0., 0., 0., 0., 0., 1.],\n",
            "         [1., 0., 0., 0., 0., 0., 0., 0., 0., 0.],\n",
            "         [0., 0., 0., 0., 0., 0., 0., 1., 0., 0.],\n",
            "         [0., 0., 0., 0., 0., 0., 1., 0., 0., 0.]]]), Y = tensor([[5, 0, 7, 6, 2, 0, 8, 3, 4, 9, 0, 7, 6, 2]])\n",
            "torch.Size([1, 14, 10])\n"
          ]
        },
        {
          "output_type": "stream",
          "name": "stderr",
          "text": [
            "/usr/local/lib/python3.7/dist-packages/ipykernel_launcher.py:1: UserWarning: Creating a tensor from a list of numpy.ndarrays is extremely slow. Please consider converting the list to a single numpy.ndarray with numpy.array() before converting to a tensor. (Triggered internally at  ../torch/csrc/utils/tensor_new.cpp:201.)\n",
            "  \"\"\"Entry point for launching an IPython kernel.\n"
          ]
        }
      ]
    },
    {
      "cell_type": "code",
      "source": [
        "rnn = torch.nn.RNN(10, hidden_size, batch_first= True)\n",
        "\n",
        "criterion = torch.nn.CrossEntropyLoss()\n",
        "optimizer = torch.optim.Adam(rnn.parameters(), learning_rate)"
      ],
      "metadata": {
        "id": "b3y9HBn7OXv6"
      },
      "execution_count": 10,
      "outputs": []
    },
    {
      "cell_type": "code",
      "source": [
        "for i in range(100):\n",
        "  optimizer.zero_grad()\n",
        "\n",
        "  outputs, _state = rnn(X)\n",
        "\n",
        "  loss = criterion(outputs.view(-1, 10), Y.view(-1))\n",
        "  loss.backward() #가중치에 대한 현재 기울기가 양수인지 음수인지.\n",
        "  \n",
        "  optimizer.step()#가중치 업데이트\n",
        "\n",
        "  result = outputs.data.argmax(axis = 2) \n",
        "\n",
        "  result_str = ''.join([char_set[i] for i in np.squeeze(result)])\n",
        "\n",
        "  print(i , \"loss :\", loss.item(), \"prediction:\", result, \"true Y\", y_data, \"prediction str: \", result_str)"
      ],
      "metadata": {
        "id": "9gfj3KT0QYBa",
        "colab": {
          "base_uri": "https://localhost:8080/"
        },
        "outputId": "c2fbc61b-11fd-42a7-b989-33f45cf7781c"
      },
      "execution_count": 15,
      "outputs": [
        {
          "output_type": "stream",
          "name": "stdout",
          "text": [
            "0 loss : 0.8077933192253113 prediction: tensor([[5, 0, 7, 6, 2, 0, 8, 3, 4, 9, 0, 7, 6, 2]]) true Y [[5, 0, 7, 6, 2, 0, 8, 3, 4, 9, 0, 7, 6, 2]] prediction str:  f you want you\n",
            "1 loss : 0.8077300786972046 prediction: tensor([[5, 0, 7, 6, 2, 0, 8, 3, 4, 9, 0, 7, 6, 2]]) true Y [[5, 0, 7, 6, 2, 0, 8, 3, 4, 9, 0, 7, 6, 2]] prediction str:  f you want you\n",
            "2 loss : 0.8076682090759277 prediction: tensor([[5, 0, 7, 6, 2, 0, 8, 3, 4, 9, 0, 7, 6, 2]]) true Y [[5, 0, 7, 6, 2, 0, 8, 3, 4, 9, 0, 7, 6, 2]] prediction str:  f you want you\n",
            "3 loss : 0.8076070547103882 prediction: tensor([[5, 0, 7, 6, 2, 0, 8, 3, 4, 9, 0, 7, 6, 2]]) true Y [[5, 0, 7, 6, 2, 0, 8, 3, 4, 9, 0, 7, 6, 2]] prediction str:  f you want you\n",
            "4 loss : 0.8075475096702576 prediction: tensor([[5, 0, 7, 6, 2, 0, 8, 3, 4, 9, 0, 7, 6, 2]]) true Y [[5, 0, 7, 6, 2, 0, 8, 3, 4, 9, 0, 7, 6, 2]] prediction str:  f you want you\n",
            "5 loss : 0.8074884414672852 prediction: tensor([[5, 0, 7, 6, 2, 0, 8, 3, 4, 9, 0, 7, 6, 2]]) true Y [[5, 0, 7, 6, 2, 0, 8, 3, 4, 9, 0, 7, 6, 2]] prediction str:  f you want you\n",
            "6 loss : 0.807430624961853 prediction: tensor([[5, 0, 7, 6, 2, 0, 8, 3, 4, 9, 0, 7, 6, 2]]) true Y [[5, 0, 7, 6, 2, 0, 8, 3, 4, 9, 0, 7, 6, 2]] prediction str:  f you want you\n",
            "7 loss : 0.8073736429214478 prediction: tensor([[5, 0, 7, 6, 2, 0, 8, 3, 4, 9, 0, 7, 6, 2]]) true Y [[5, 0, 7, 6, 2, 0, 8, 3, 4, 9, 0, 7, 6, 2]] prediction str:  f you want you\n",
            "8 loss : 0.8073177337646484 prediction: tensor([[5, 0, 7, 6, 2, 0, 8, 3, 4, 9, 0, 7, 6, 2]]) true Y [[5, 0, 7, 6, 2, 0, 8, 3, 4, 9, 0, 7, 6, 2]] prediction str:  f you want you\n",
            "9 loss : 0.8072625398635864 prediction: tensor([[5, 0, 7, 6, 2, 0, 8, 3, 4, 9, 0, 7, 6, 2]]) true Y [[5, 0, 7, 6, 2, 0, 8, 3, 4, 9, 0, 7, 6, 2]] prediction str:  f you want you\n",
            "10 loss : 0.807208240032196 prediction: tensor([[5, 0, 7, 6, 2, 0, 8, 3, 4, 9, 0, 7, 6, 2]]) true Y [[5, 0, 7, 6, 2, 0, 8, 3, 4, 9, 0, 7, 6, 2]] prediction str:  f you want you\n",
            "11 loss : 0.8071547746658325 prediction: tensor([[5, 0, 7, 6, 2, 0, 8, 3, 4, 9, 0, 7, 6, 2]]) true Y [[5, 0, 7, 6, 2, 0, 8, 3, 4, 9, 0, 7, 6, 2]] prediction str:  f you want you\n",
            "12 loss : 0.8071020841598511 prediction: tensor([[5, 0, 7, 6, 2, 0, 8, 3, 4, 9, 0, 7, 6, 2]]) true Y [[5, 0, 7, 6, 2, 0, 8, 3, 4, 9, 0, 7, 6, 2]] prediction str:  f you want you\n",
            "13 loss : 0.807050347328186 prediction: tensor([[5, 0, 7, 6, 2, 0, 8, 3, 4, 9, 0, 7, 6, 2]]) true Y [[5, 0, 7, 6, 2, 0, 8, 3, 4, 9, 0, 7, 6, 2]] prediction str:  f you want you\n",
            "14 loss : 0.8069992065429688 prediction: tensor([[5, 0, 7, 6, 2, 0, 8, 3, 4, 9, 0, 7, 6, 2]]) true Y [[5, 0, 7, 6, 2, 0, 8, 3, 4, 9, 0, 7, 6, 2]] prediction str:  f you want you\n",
            "15 loss : 0.8069490194320679 prediction: tensor([[5, 0, 7, 6, 2, 0, 8, 3, 4, 9, 0, 7, 6, 2]]) true Y [[5, 0, 7, 6, 2, 0, 8, 3, 4, 9, 0, 7, 6, 2]] prediction str:  f you want you\n",
            "16 loss : 0.8068992495536804 prediction: tensor([[5, 0, 7, 6, 2, 0, 8, 3, 4, 9, 0, 7, 6, 2]]) true Y [[5, 0, 7, 6, 2, 0, 8, 3, 4, 9, 0, 7, 6, 2]] prediction str:  f you want you\n",
            "17 loss : 0.8068504333496094 prediction: tensor([[5, 0, 7, 6, 2, 0, 8, 3, 4, 9, 0, 7, 6, 2]]) true Y [[5, 0, 7, 6, 2, 0, 8, 3, 4, 9, 0, 7, 6, 2]] prediction str:  f you want you\n",
            "18 loss : 0.8068022727966309 prediction: tensor([[5, 0, 7, 6, 2, 0, 8, 3, 4, 9, 0, 7, 6, 2]]) true Y [[5, 0, 7, 6, 2, 0, 8, 3, 4, 9, 0, 7, 6, 2]] prediction str:  f you want you\n",
            "19 loss : 0.8067547678947449 prediction: tensor([[5, 0, 7, 6, 2, 0, 8, 3, 4, 9, 0, 7, 6, 2]]) true Y [[5, 0, 7, 6, 2, 0, 8, 3, 4, 9, 0, 7, 6, 2]] prediction str:  f you want you\n",
            "20 loss : 0.8067078590393066 prediction: tensor([[5, 0, 7, 6, 2, 0, 8, 3, 4, 9, 0, 7, 6, 2]]) true Y [[5, 0, 7, 6, 2, 0, 8, 3, 4, 9, 0, 7, 6, 2]] prediction str:  f you want you\n",
            "21 loss : 0.8066615462303162 prediction: tensor([[5, 0, 7, 6, 2, 0, 8, 3, 4, 9, 0, 7, 6, 2]]) true Y [[5, 0, 7, 6, 2, 0, 8, 3, 4, 9, 0, 7, 6, 2]] prediction str:  f you want you\n",
            "22 loss : 0.8066160082817078 prediction: tensor([[5, 0, 7, 6, 2, 0, 8, 3, 4, 9, 0, 7, 6, 2]]) true Y [[5, 0, 7, 6, 2, 0, 8, 3, 4, 9, 0, 7, 6, 2]] prediction str:  f you want you\n",
            "23 loss : 0.8065710067749023 prediction: tensor([[5, 0, 7, 6, 2, 0, 8, 3, 4, 9, 0, 7, 6, 2]]) true Y [[5, 0, 7, 6, 2, 0, 8, 3, 4, 9, 0, 7, 6, 2]] prediction str:  f you want you\n",
            "24 loss : 0.8065265417098999 prediction: tensor([[5, 0, 7, 6, 2, 0, 8, 3, 4, 9, 0, 7, 6, 2]]) true Y [[5, 0, 7, 6, 2, 0, 8, 3, 4, 9, 0, 7, 6, 2]] prediction str:  f you want you\n",
            "25 loss : 0.8064827919006348 prediction: tensor([[5, 0, 7, 6, 2, 0, 8, 3, 4, 9, 0, 7, 6, 2]]) true Y [[5, 0, 7, 6, 2, 0, 8, 3, 4, 9, 0, 7, 6, 2]] prediction str:  f you want you\n",
            "26 loss : 0.8064394593238831 prediction: tensor([[5, 0, 7, 6, 2, 0, 8, 3, 4, 9, 0, 7, 6, 2]]) true Y [[5, 0, 7, 6, 2, 0, 8, 3, 4, 9, 0, 7, 6, 2]] prediction str:  f you want you\n",
            "27 loss : 0.8063967823982239 prediction: tensor([[5, 0, 7, 6, 2, 0, 8, 3, 4, 9, 0, 7, 6, 2]]) true Y [[5, 0, 7, 6, 2, 0, 8, 3, 4, 9, 0, 7, 6, 2]] prediction str:  f you want you\n",
            "28 loss : 0.8063545823097229 prediction: tensor([[5, 0, 7, 6, 2, 0, 8, 3, 4, 9, 0, 7, 6, 2]]) true Y [[5, 0, 7, 6, 2, 0, 8, 3, 4, 9, 0, 7, 6, 2]] prediction str:  f you want you\n",
            "29 loss : 0.8063128590583801 prediction: tensor([[5, 0, 7, 6, 2, 0, 8, 3, 4, 9, 0, 7, 6, 2]]) true Y [[5, 0, 7, 6, 2, 0, 8, 3, 4, 9, 0, 7, 6, 2]] prediction str:  f you want you\n",
            "30 loss : 0.8062717318534851 prediction: tensor([[5, 0, 7, 6, 2, 0, 8, 3, 4, 9, 0, 7, 6, 2]]) true Y [[5, 0, 7, 6, 2, 0, 8, 3, 4, 9, 0, 7, 6, 2]] prediction str:  f you want you\n",
            "31 loss : 0.8062309622764587 prediction: tensor([[5, 0, 7, 6, 2, 0, 8, 3, 4, 9, 0, 7, 6, 2]]) true Y [[5, 0, 7, 6, 2, 0, 8, 3, 4, 9, 0, 7, 6, 2]] prediction str:  f you want you\n",
            "32 loss : 0.8061909079551697 prediction: tensor([[5, 0, 7, 6, 2, 0, 8, 3, 4, 9, 0, 7, 6, 2]]) true Y [[5, 0, 7, 6, 2, 0, 8, 3, 4, 9, 0, 7, 6, 2]] prediction str:  f you want you\n",
            "33 loss : 0.806151270866394 prediction: tensor([[5, 0, 7, 6, 2, 0, 8, 3, 4, 9, 0, 7, 6, 2]]) true Y [[5, 0, 7, 6, 2, 0, 8, 3, 4, 9, 0, 7, 6, 2]] prediction str:  f you want you\n",
            "34 loss : 0.8061121702194214 prediction: tensor([[5, 0, 7, 6, 2, 0, 8, 3, 4, 9, 0, 7, 6, 2]]) true Y [[5, 0, 7, 6, 2, 0, 8, 3, 4, 9, 0, 7, 6, 2]] prediction str:  f you want you\n",
            "35 loss : 0.8060734868049622 prediction: tensor([[5, 0, 7, 6, 2, 0, 8, 3, 4, 9, 0, 7, 6, 2]]) true Y [[5, 0, 7, 6, 2, 0, 8, 3, 4, 9, 0, 7, 6, 2]] prediction str:  f you want you\n",
            "36 loss : 0.806035041809082 prediction: tensor([[5, 0, 7, 6, 2, 0, 8, 3, 4, 9, 0, 7, 6, 2]]) true Y [[5, 0, 7, 6, 2, 0, 8, 3, 4, 9, 0, 7, 6, 2]] prediction str:  f you want you\n",
            "37 loss : 0.8059971928596497 prediction: tensor([[5, 0, 7, 6, 2, 0, 8, 3, 4, 9, 0, 7, 6, 2]]) true Y [[5, 0, 7, 6, 2, 0, 8, 3, 4, 9, 0, 7, 6, 2]] prediction str:  f you want you\n",
            "38 loss : 0.8059597611427307 prediction: tensor([[5, 0, 7, 6, 2, 0, 8, 3, 4, 9, 0, 7, 6, 2]]) true Y [[5, 0, 7, 6, 2, 0, 8, 3, 4, 9, 0, 7, 6, 2]] prediction str:  f you want you\n",
            "39 loss : 0.8059228658676147 prediction: tensor([[5, 0, 7, 6, 2, 0, 8, 3, 4, 9, 0, 7, 6, 2]]) true Y [[5, 0, 7, 6, 2, 0, 8, 3, 4, 9, 0, 7, 6, 2]] prediction str:  f you want you\n",
            "40 loss : 0.8058863282203674 prediction: tensor([[5, 0, 7, 6, 2, 0, 8, 3, 4, 9, 0, 7, 6, 2]]) true Y [[5, 0, 7, 6, 2, 0, 8, 3, 4, 9, 0, 7, 6, 2]] prediction str:  f you want you\n",
            "41 loss : 0.805850088596344 prediction: tensor([[5, 0, 7, 6, 2, 0, 8, 3, 4, 9, 0, 7, 6, 2]]) true Y [[5, 0, 7, 6, 2, 0, 8, 3, 4, 9, 0, 7, 6, 2]] prediction str:  f you want you\n",
            "42 loss : 0.8058144450187683 prediction: tensor([[5, 0, 7, 6, 2, 0, 8, 3, 4, 9, 0, 7, 6, 2]]) true Y [[5, 0, 7, 6, 2, 0, 8, 3, 4, 9, 0, 7, 6, 2]] prediction str:  f you want you\n",
            "43 loss : 0.8057790994644165 prediction: tensor([[5, 0, 7, 6, 2, 0, 8, 3, 4, 9, 0, 7, 6, 2]]) true Y [[5, 0, 7, 6, 2, 0, 8, 3, 4, 9, 0, 7, 6, 2]] prediction str:  f you want you\n",
            "44 loss : 0.8057441711425781 prediction: tensor([[5, 0, 7, 6, 2, 0, 8, 3, 4, 9, 0, 7, 6, 2]]) true Y [[5, 0, 7, 6, 2, 0, 8, 3, 4, 9, 0, 7, 6, 2]] prediction str:  f you want you\n",
            "45 loss : 0.8057096600532532 prediction: tensor([[5, 0, 7, 6, 2, 0, 8, 3, 4, 9, 0, 7, 6, 2]]) true Y [[5, 0, 7, 6, 2, 0, 8, 3, 4, 9, 0, 7, 6, 2]] prediction str:  f you want you\n",
            "46 loss : 0.8056754469871521 prediction: tensor([[5, 0, 7, 6, 2, 0, 8, 3, 4, 9, 0, 7, 6, 2]]) true Y [[5, 0, 7, 6, 2, 0, 8, 3, 4, 9, 0, 7, 6, 2]] prediction str:  f you want you\n",
            "47 loss : 0.8056415915489197 prediction: tensor([[5, 0, 7, 6, 2, 0, 8, 3, 4, 9, 0, 7, 6, 2]]) true Y [[5, 0, 7, 6, 2, 0, 8, 3, 4, 9, 0, 7, 6, 2]] prediction str:  f you want you\n",
            "48 loss : 0.8056079745292664 prediction: tensor([[5, 0, 7, 6, 2, 0, 8, 3, 4, 9, 0, 7, 6, 2]]) true Y [[5, 0, 7, 6, 2, 0, 8, 3, 4, 9, 0, 7, 6, 2]] prediction str:  f you want you\n",
            "49 loss : 0.8055749535560608 prediction: tensor([[5, 0, 7, 6, 2, 0, 8, 3, 4, 9, 0, 7, 6, 2]]) true Y [[5, 0, 7, 6, 2, 0, 8, 3, 4, 9, 0, 7, 6, 2]] prediction str:  f you want you\n",
            "50 loss : 0.8055422902107239 prediction: tensor([[5, 0, 7, 6, 2, 0, 8, 3, 4, 9, 0, 7, 6, 2]]) true Y [[5, 0, 7, 6, 2, 0, 8, 3, 4, 9, 0, 7, 6, 2]] prediction str:  f you want you\n",
            "51 loss : 0.8055098652839661 prediction: tensor([[5, 0, 7, 6, 2, 0, 8, 3, 4, 9, 0, 7, 6, 2]]) true Y [[5, 0, 7, 6, 2, 0, 8, 3, 4, 9, 0, 7, 6, 2]] prediction str:  f you want you\n",
            "52 loss : 0.8054776787757874 prediction: tensor([[5, 0, 7, 6, 2, 0, 8, 3, 4, 9, 0, 7, 6, 2]]) true Y [[5, 0, 7, 6, 2, 0, 8, 3, 4, 9, 0, 7, 6, 2]] prediction str:  f you want you\n",
            "53 loss : 0.8054459691047668 prediction: tensor([[5, 0, 7, 6, 2, 0, 8, 3, 4, 9, 0, 7, 6, 2]]) true Y [[5, 0, 7, 6, 2, 0, 8, 3, 4, 9, 0, 7, 6, 2]] prediction str:  f you want you\n",
            "54 loss : 0.8054145574569702 prediction: tensor([[5, 0, 7, 6, 2, 0, 8, 3, 4, 9, 0, 7, 6, 2]]) true Y [[5, 0, 7, 6, 2, 0, 8, 3, 4, 9, 0, 7, 6, 2]] prediction str:  f you want you\n",
            "55 loss : 0.805383563041687 prediction: tensor([[5, 0, 7, 6, 2, 0, 8, 3, 4, 9, 0, 7, 6, 2]]) true Y [[5, 0, 7, 6, 2, 0, 8, 3, 4, 9, 0, 7, 6, 2]] prediction str:  f you want you\n",
            "56 loss : 0.8053525686264038 prediction: tensor([[5, 0, 7, 6, 2, 0, 8, 3, 4, 9, 0, 7, 6, 2]]) true Y [[5, 0, 7, 6, 2, 0, 8, 3, 4, 9, 0, 7, 6, 2]] prediction str:  f you want you\n",
            "57 loss : 0.8053221106529236 prediction: tensor([[5, 0, 7, 6, 2, 0, 8, 3, 4, 9, 0, 7, 6, 2]]) true Y [[5, 0, 7, 6, 2, 0, 8, 3, 4, 9, 0, 7, 6, 2]] prediction str:  f you want you\n",
            "58 loss : 0.8052919507026672 prediction: tensor([[5, 0, 7, 6, 2, 0, 8, 3, 4, 9, 0, 7, 6, 2]]) true Y [[5, 0, 7, 6, 2, 0, 8, 3, 4, 9, 0, 7, 6, 2]] prediction str:  f you want you\n",
            "59 loss : 0.8052620887756348 prediction: tensor([[5, 0, 7, 6, 2, 0, 8, 3, 4, 9, 0, 7, 6, 2]]) true Y [[5, 0, 7, 6, 2, 0, 8, 3, 4, 9, 0, 7, 6, 2]] prediction str:  f you want you\n",
            "60 loss : 0.8052325248718262 prediction: tensor([[5, 0, 7, 6, 2, 0, 8, 3, 4, 9, 0, 7, 6, 2]]) true Y [[5, 0, 7, 6, 2, 0, 8, 3, 4, 9, 0, 7, 6, 2]] prediction str:  f you want you\n",
            "61 loss : 0.8052031397819519 prediction: tensor([[5, 0, 7, 6, 2, 0, 8, 3, 4, 9, 0, 7, 6, 2]]) true Y [[5, 0, 7, 6, 2, 0, 8, 3, 4, 9, 0, 7, 6, 2]] prediction str:  f you want you\n",
            "62 loss : 0.8051743507385254 prediction: tensor([[5, 0, 7, 6, 2, 0, 8, 3, 4, 9, 0, 7, 6, 2]]) true Y [[5, 0, 7, 6, 2, 0, 8, 3, 4, 9, 0, 7, 6, 2]] prediction str:  f you want you\n",
            "63 loss : 0.8051454424858093 prediction: tensor([[5, 0, 7, 6, 2, 0, 8, 3, 4, 9, 0, 7, 6, 2]]) true Y [[5, 0, 7, 6, 2, 0, 8, 3, 4, 9, 0, 7, 6, 2]] prediction str:  f you want you\n",
            "64 loss : 0.8051170706748962 prediction: tensor([[5, 0, 7, 6, 2, 0, 8, 3, 4, 9, 0, 7, 6, 2]]) true Y [[5, 0, 7, 6, 2, 0, 8, 3, 4, 9, 0, 7, 6, 2]] prediction str:  f you want you\n",
            "65 loss : 0.8050888776779175 prediction: tensor([[5, 0, 7, 6, 2, 0, 8, 3, 4, 9, 0, 7, 6, 2]]) true Y [[5, 0, 7, 6, 2, 0, 8, 3, 4, 9, 0, 7, 6, 2]] prediction str:  f you want you\n",
            "66 loss : 0.8050609230995178 prediction: tensor([[5, 0, 7, 6, 2, 0, 8, 3, 4, 9, 0, 7, 6, 2]]) true Y [[5, 0, 7, 6, 2, 0, 8, 3, 4, 9, 0, 7, 6, 2]] prediction str:  f you want you\n",
            "67 loss : 0.8050332069396973 prediction: tensor([[5, 0, 7, 6, 2, 0, 8, 3, 4, 9, 0, 7, 6, 2]]) true Y [[5, 0, 7, 6, 2, 0, 8, 3, 4, 9, 0, 7, 6, 2]] prediction str:  f you want you\n",
            "68 loss : 0.8050059080123901 prediction: tensor([[5, 0, 7, 6, 2, 0, 8, 3, 4, 9, 0, 7, 6, 2]]) true Y [[5, 0, 7, 6, 2, 0, 8, 3, 4, 9, 0, 7, 6, 2]] prediction str:  f you want you\n",
            "69 loss : 0.8049787282943726 prediction: tensor([[5, 0, 7, 6, 2, 0, 8, 3, 4, 9, 0, 7, 6, 2]]) true Y [[5, 0, 7, 6, 2, 0, 8, 3, 4, 9, 0, 7, 6, 2]] prediction str:  f you want you\n",
            "70 loss : 0.8049519658088684 prediction: tensor([[5, 0, 7, 6, 2, 0, 8, 3, 4, 9, 0, 7, 6, 2]]) true Y [[5, 0, 7, 6, 2, 0, 8, 3, 4, 9, 0, 7, 6, 2]] prediction str:  f you want you\n",
            "71 loss : 0.804925262928009 prediction: tensor([[5, 0, 7, 6, 2, 0, 8, 3, 4, 9, 0, 7, 6, 2]]) true Y [[5, 0, 7, 6, 2, 0, 8, 3, 4, 9, 0, 7, 6, 2]] prediction str:  f you want you\n",
            "72 loss : 0.804898738861084 prediction: tensor([[5, 0, 7, 6, 2, 0, 8, 3, 4, 9, 0, 7, 6, 2]]) true Y [[5, 0, 7, 6, 2, 0, 8, 3, 4, 9, 0, 7, 6, 2]] prediction str:  f you want you\n",
            "73 loss : 0.8048726916313171 prediction: tensor([[5, 0, 7, 6, 2, 0, 8, 3, 4, 9, 0, 7, 6, 2]]) true Y [[5, 0, 7, 6, 2, 0, 8, 3, 4, 9, 0, 7, 6, 2]] prediction str:  f you want you\n",
            "74 loss : 0.8048465847969055 prediction: tensor([[5, 0, 7, 6, 2, 0, 8, 3, 4, 9, 0, 7, 6, 2]]) true Y [[5, 0, 7, 6, 2, 0, 8, 3, 4, 9, 0, 7, 6, 2]] prediction str:  f you want you\n",
            "75 loss : 0.8048210144042969 prediction: tensor([[5, 0, 7, 6, 2, 0, 8, 3, 4, 9, 0, 7, 6, 2]]) true Y [[5, 0, 7, 6, 2, 0, 8, 3, 4, 9, 0, 7, 6, 2]] prediction str:  f you want you\n",
            "76 loss : 0.8047954440116882 prediction: tensor([[5, 0, 7, 6, 2, 0, 8, 3, 4, 9, 0, 7, 6, 2]]) true Y [[5, 0, 7, 6, 2, 0, 8, 3, 4, 9, 0, 7, 6, 2]] prediction str:  f you want you\n",
            "77 loss : 0.804770290851593 prediction: tensor([[5, 0, 7, 6, 2, 0, 8, 3, 4, 9, 0, 7, 6, 2]]) true Y [[5, 0, 7, 6, 2, 0, 8, 3, 4, 9, 0, 7, 6, 2]] prediction str:  f you want you\n",
            "78 loss : 0.8047452569007874 prediction: tensor([[5, 0, 7, 6, 2, 0, 8, 3, 4, 9, 0, 7, 6, 2]]) true Y [[5, 0, 7, 6, 2, 0, 8, 3, 4, 9, 0, 7, 6, 2]] prediction str:  f you want you\n",
            "79 loss : 0.8047204613685608 prediction: tensor([[5, 0, 7, 6, 2, 0, 8, 3, 4, 9, 0, 7, 6, 2]]) true Y [[5, 0, 7, 6, 2, 0, 8, 3, 4, 9, 0, 7, 6, 2]] prediction str:  f you want you\n",
            "80 loss : 0.8046960234642029 prediction: tensor([[5, 0, 7, 6, 2, 0, 8, 3, 4, 9, 0, 7, 6, 2]]) true Y [[5, 0, 7, 6, 2, 0, 8, 3, 4, 9, 0, 7, 6, 2]] prediction str:  f you want you\n",
            "81 loss : 0.8046714663505554 prediction: tensor([[5, 0, 7, 6, 2, 0, 8, 3, 4, 9, 0, 7, 6, 2]]) true Y [[5, 0, 7, 6, 2, 0, 8, 3, 4, 9, 0, 7, 6, 2]] prediction str:  f you want you\n",
            "82 loss : 0.8046473264694214 prediction: tensor([[5, 0, 7, 6, 2, 0, 8, 3, 4, 9, 0, 7, 6, 2]]) true Y [[5, 0, 7, 6, 2, 0, 8, 3, 4, 9, 0, 7, 6, 2]] prediction str:  f you want you\n",
            "83 loss : 0.8046234250068665 prediction: tensor([[5, 0, 7, 6, 2, 0, 8, 3, 4, 9, 0, 7, 6, 2]]) true Y [[5, 0, 7, 6, 2, 0, 8, 3, 4, 9, 0, 7, 6, 2]] prediction str:  f you want you\n",
            "84 loss : 0.8045995831489563 prediction: tensor([[5, 0, 7, 6, 2, 0, 8, 3, 4, 9, 0, 7, 6, 2]]) true Y [[5, 0, 7, 6, 2, 0, 8, 3, 4, 9, 0, 7, 6, 2]] prediction str:  f you want you\n",
            "85 loss : 0.8045759797096252 prediction: tensor([[5, 0, 7, 6, 2, 0, 8, 3, 4, 9, 0, 7, 6, 2]]) true Y [[5, 0, 7, 6, 2, 0, 8, 3, 4, 9, 0, 7, 6, 2]] prediction str:  f you want you\n",
            "86 loss : 0.8045527338981628 prediction: tensor([[5, 0, 7, 6, 2, 0, 8, 3, 4, 9, 0, 7, 6, 2]]) true Y [[5, 0, 7, 6, 2, 0, 8, 3, 4, 9, 0, 7, 6, 2]] prediction str:  f you want you\n",
            "87 loss : 0.8045295476913452 prediction: tensor([[5, 0, 7, 6, 2, 0, 8, 3, 4, 9, 0, 7, 6, 2]]) true Y [[5, 0, 7, 6, 2, 0, 8, 3, 4, 9, 0, 7, 6, 2]] prediction str:  f you want you\n",
            "88 loss : 0.8045065999031067 prediction: tensor([[5, 0, 7, 6, 2, 0, 8, 3, 4, 9, 0, 7, 6, 2]]) true Y [[5, 0, 7, 6, 2, 0, 8, 3, 4, 9, 0, 7, 6, 2]] prediction str:  f you want you\n",
            "89 loss : 0.8044838309288025 prediction: tensor([[5, 0, 7, 6, 2, 0, 8, 3, 4, 9, 0, 7, 6, 2]]) true Y [[5, 0, 7, 6, 2, 0, 8, 3, 4, 9, 0, 7, 6, 2]] prediction str:  f you want you\n",
            "90 loss : 0.8044613003730774 prediction: tensor([[5, 0, 7, 6, 2, 0, 8, 3, 4, 9, 0, 7, 6, 2]]) true Y [[5, 0, 7, 6, 2, 0, 8, 3, 4, 9, 0, 7, 6, 2]] prediction str:  f you want you\n",
            "91 loss : 0.8044388890266418 prediction: tensor([[5, 0, 7, 6, 2, 0, 8, 3, 4, 9, 0, 7, 6, 2]]) true Y [[5, 0, 7, 6, 2, 0, 8, 3, 4, 9, 0, 7, 6, 2]] prediction str:  f you want you\n",
            "92 loss : 0.8044166564941406 prediction: tensor([[5, 0, 7, 6, 2, 0, 8, 3, 4, 9, 0, 7, 6, 2]]) true Y [[5, 0, 7, 6, 2, 0, 8, 3, 4, 9, 0, 7, 6, 2]] prediction str:  f you want you\n",
            "93 loss : 0.8043946027755737 prediction: tensor([[5, 0, 7, 6, 2, 0, 8, 3, 4, 9, 0, 7, 6, 2]]) true Y [[5, 0, 7, 6, 2, 0, 8, 3, 4, 9, 0, 7, 6, 2]] prediction str:  f you want you\n",
            "94 loss : 0.8043726682662964 prediction: tensor([[5, 0, 7, 6, 2, 0, 8, 3, 4, 9, 0, 7, 6, 2]]) true Y [[5, 0, 7, 6, 2, 0, 8, 3, 4, 9, 0, 7, 6, 2]] prediction str:  f you want you\n",
            "95 loss : 0.8043510317802429 prediction: tensor([[5, 0, 7, 6, 2, 0, 8, 3, 4, 9, 0, 7, 6, 2]]) true Y [[5, 0, 7, 6, 2, 0, 8, 3, 4, 9, 0, 7, 6, 2]] prediction str:  f you want you\n",
            "96 loss : 0.8043294548988342 prediction: tensor([[5, 0, 7, 6, 2, 0, 8, 3, 4, 9, 0, 7, 6, 2]]) true Y [[5, 0, 7, 6, 2, 0, 8, 3, 4, 9, 0, 7, 6, 2]] prediction str:  f you want you\n",
            "97 loss : 0.8043082356452942 prediction: tensor([[5, 0, 7, 6, 2, 0, 8, 3, 4, 9, 0, 7, 6, 2]]) true Y [[5, 0, 7, 6, 2, 0, 8, 3, 4, 9, 0, 7, 6, 2]] prediction str:  f you want you\n",
            "98 loss : 0.8042870163917542 prediction: tensor([[5, 0, 7, 6, 2, 0, 8, 3, 4, 9, 0, 7, 6, 2]]) true Y [[5, 0, 7, 6, 2, 0, 8, 3, 4, 9, 0, 7, 6, 2]] prediction str:  f you want you\n",
            "99 loss : 0.8042660355567932 prediction: tensor([[5, 0, 7, 6, 2, 0, 8, 3, 4, 9, 0, 7, 6, 2]]) true Y [[5, 0, 7, 6, 2, 0, 8, 3, 4, 9, 0, 7, 6, 2]] prediction str:  f you want you\n"
          ]
        }
      ]
    },
    {
      "cell_type": "code",
      "source": [
        "test_input = torch.Tensor(1,14,10)\n",
        "print(test_input.shape)\n",
        "\n",
        "\n",
        "test_out, T_state = rnn(X)\n",
        "print(test_out.shape)"
      ],
      "metadata": {
        "colab": {
          "base_uri": "https://localhost:8080/"
        },
        "id": "M_fFe3DqQy8b",
        "outputId": "99446fba-e444-425e-d422-82bde1d3173b"
      },
      "execution_count": 62,
      "outputs": [
        {
          "output_type": "stream",
          "name": "stdout",
          "text": [
            "torch.Size([1, 14, 10])\n",
            "torch.Size([1, 14, 10])\n"
          ]
        }
      ]
    },
    {
      "cell_type": "code",
      "source": [
        "a = test_out.data.argmax(axis = 2)"
      ],
      "metadata": {
        "id": "IwPe4UbBcICK"
      },
      "execution_count": 72,
      "outputs": []
    },
    {
      "cell_type": "code",
      "source": [
        " "
      ],
      "metadata": {
        "id": "IR5OoIU4UV3z"
      },
      "execution_count": null,
      "outputs": []
    }
  ]
}