{
  "nbformat": 4,
  "nbformat_minor": 0,
  "metadata": {
    "colab": {
      "name": "torch_CNN.ipynb",
      "provenance": [],
      "collapsed_sections": [],
      "authorship_tag": "ABX9TyMT8s1LoCyNoOZE4ydb9prG",
      "include_colab_link": true
    },
    "kernelspec": {
      "name": "python3",
      "display_name": "Python 3"
    },
    "language_info": {
      "name": "python"
    },
    "accelerator": "GPU"
  },
  "cells": [
    {
      "cell_type": "markdown",
      "metadata": {
        "id": "view-in-github",
        "colab_type": "text"
      },
      "source": [
        "<a href=\"https://colab.research.google.com/github/kkkkkkkm/Torch/blob/main/CNN/torch_CNN.ipynb\" target=\"_parent\"><img src=\"https://colab.research.google.com/assets/colab-badge.svg\" alt=\"Open In Colab\"/></a>"
      ]
    },
    {
      "cell_type": "code",
      "execution_count": 83,
      "metadata": {
        "id": "vcsBWDCwtlVd"
      },
      "outputs": [],
      "source": [
        "import torch\n",
        "import torchvision.datasets as dsets\n",
        "import torchvision.transforms as transforms\n",
        "import torch.nn.init\n",
        "import torch.nn as nn"
      ]
    },
    {
      "cell_type": "code",
      "source": [
        "device = 'cuda' if torch.cuda.is_available() else 'cpu'\n",
        "\n",
        "torch.manual_seed(777)\n",
        "\n",
        "if device == 'cuda':\n",
        "  torch.cuda.manual_seed_all(777)\n",
        "\n",
        "print(\"기기 사용 {}\".format(device))"
      ],
      "metadata": {
        "colab": {
          "base_uri": "https://localhost:8080/"
        },
        "id": "zmjlK0rAt2UL",
        "outputId": "611b755a-0e9b-4a43-9df9-0bbf48898331"
      },
      "execution_count": 84,
      "outputs": [
        {
          "output_type": "stream",
          "name": "stdout",
          "text": [
            "기기 사용 cuda\n"
          ]
        }
      ]
    },
    {
      "cell_type": "code",
      "source": [
        "learning_rate = 0.001\n",
        "training_epochs = 15\n",
        "batch_size = 100"
      ],
      "metadata": {
        "id": "5WP1g8yIuEO5"
      },
      "execution_count": 85,
      "outputs": []
    },
    {
      "cell_type": "code",
      "source": [
        "mnist_train = dsets.MNIST(root = 'MNIST_data/',\n",
        "                          train = True,\n",
        "                          transform = transforms.ToTensor(),\n",
        "                          download = True,)\n",
        "\n",
        "mnist_test = dsets.MNIST(root = 'MNIST_data/',\n",
        "                         train = False,\n",
        "                         transform = transforms.ToTensor(),\n",
        "                         download = True)"
      ],
      "metadata": {
        "id": "e-mZM2P_uLgA"
      },
      "execution_count": 86,
      "outputs": []
    },
    {
      "cell_type": "code",
      "source": [
        "data_loader = torch.utils.data.DataLoader(dataset = mnist_train,\n",
        "                                     batch_size =batch_size,\n",
        "                                     shuffle = True,\n",
        "                                     drop_last= True)\n"
      ],
      "metadata": {
        "id": "U8foe10AunQK"
      },
      "execution_count": 87,
      "outputs": []
    },
    {
      "cell_type": "code",
      "source": [
        "class CNN(torch.nn.Module):\n",
        "  def __init__(self):\n",
        "    super(CNN, self).__init__()\n",
        "    self.keep_prob = 0.5\n",
        "\n",
        "    self.layer1 = torch.nn.Sequential(\n",
        "        torch.nn.Conv2d(1, 32, kernel_size=3, stride= 1, padding= 1),\n",
        "        torch.nn.ReLU(),\n",
        "        torch.nn.MaxPool2d(kernel_size= 2, stride= 2))\n",
        "\n",
        "    self.layer2 = torch.nn.Sequential(\n",
        "          torch.nn.Conv2d(32, 64, kernel_size= 3, stride= 1, padding= 1),\n",
        "          torch.nn.ReLU(),\n",
        "          torch.nn.MaxPool2d(kernel_size = 2, stride = 2))\n",
        "\n",
        "    self.layer3 = torch.nn.Sequential(\n",
        "          torch.nn.Conv2d(64, 128, kernel_size= 3, stride= 1, padding= 1),\n",
        "          torch.nn.ReLU(),\n",
        "          torch.nn.MaxPool2d(kernel_size= 2, stride = 2, padding = 1))\n",
        "\n",
        "    self.fc1 = torch.nn.Linear(4*4*128, 625, bias = True)\n",
        "    torch.nn.init.xavier_uniform_(self.fc1.weight)\n",
        "    \n",
        "    self.layer4 = torch.nn.Sequential(\n",
        "          self.fc1,\n",
        "          torch.nn.ReLU(),\n",
        "          torch.nn.Dropout(p = 1 - self.keep_prob))\n",
        "\n",
        "    self.fc2 = torch.nn.Linear(625, 10, bias= True)\n",
        "    torch.nn.init.xavier_uniform_(self.fc2.weight)\n",
        "\n",
        "\n",
        "  def forward(self, x):\n",
        "      out = self.layer1(x)\n",
        "      out = self.layer2(out)\n",
        "      out = self.layer3(out)\n",
        "      out = out.view(out.size(0), -1)\n",
        "      out = self.layer4(out)\n",
        "      out = self.fc2(out)\n",
        "      return out"
      ],
      "metadata": {
        "id": "_ZM0d1e3u_hh"
      },
      "execution_count": 88,
      "outputs": []
    },
    {
      "cell_type": "code",
      "source": [
        "#test\n",
        "net = CNN().to(device)\n",
        "test_input = (torch.Tensor(100,1,28,28)).to(device)\n",
        "test_out = net(test_input)"
      ],
      "metadata": {
        "id": "K2cVwxi30qyx"
      },
      "execution_count": 89,
      "outputs": []
    },
    {
      "cell_type": "code",
      "source": [
        "model = CNN().to(device)"
      ],
      "metadata": {
        "id": "kq658aPB6GCr"
      },
      "execution_count": 90,
      "outputs": []
    },
    {
      "cell_type": "code",
      "source": [
        "#loss 함수 cuda로 실행\n",
        "loss_fn = torch.nn.CrossEntropyLoss().to(device)\n",
        "optimizer = torch.optim.Adam(model.parameters(), lr = learning_rate)"
      ],
      "metadata": {
        "id": "_BZtD7jn_Y1r"
      },
      "execution_count": 91,
      "outputs": []
    },
    {
      "cell_type": "code",
      "source": [
        "total_batch = len(data_loader)"
      ],
      "metadata": {
        "id": "hEOCZG6N_vh6"
      },
      "execution_count": 92,
      "outputs": []
    },
    {
      "cell_type": "code",
      "source": [
        "#batch_size = 100, total_data = 60000\n",
        "print(total_batch)"
      ],
      "metadata": {
        "colab": {
          "base_uri": "https://localhost:8080/"
        },
        "id": "ZqQUapJW_yki",
        "outputId": "8f332dcc-a029-4935-fe42-762c0d58679f"
      },
      "execution_count": 93,
      "outputs": [
        {
          "output_type": "stream",
          "name": "stdout",
          "text": [
            "600\n"
          ]
        }
      ]
    },
    {
      "cell_type": "code",
      "source": [
        "for epoch in range(training_epochs):\n",
        "  avg_cost = 0  \n",
        "  \n",
        "  #미니 배치 단위로 꺼내오기\n",
        "  for x, y in data_loader:\n",
        "    x = x.to(device)\n",
        "    y = y.to(device)\n",
        "\n",
        "    optimizer.zero_grad()\n",
        "\n",
        "    #예측값\n",
        "    hypothesis = model(x)\n",
        "    \n",
        "    #Loss 값\n",
        "    cost = loss_fn(hypothesis, y)\n",
        "    \n",
        "    #가중치에 대한 기울기 계산\n",
        "    cost.backward()\n",
        "\n",
        "    #기울기를 기준으로 가중치 조정\n",
        "    optimizer.step()\n",
        "\n",
        "    avg_cost += cost/total_batch\n",
        "\n",
        "  print('epoch = {:>4}, cost = {:>.9}'.format(epoch+1, avg_cost))\n",
        "\n",
        "\n",
        "    \n",
        "\n"
      ],
      "metadata": {
        "colab": {
          "base_uri": "https://localhost:8080/"
        },
        "id": "KiYl6be__0eL",
        "outputId": "dd25586b-1a1a-4368-bf05-c45407d4791e"
      },
      "execution_count": 94,
      "outputs": [
        {
          "output_type": "stream",
          "name": "stdout",
          "text": [
            "epoch =    1, cost = 0.176343843\n",
            "epoch =    2, cost = 0.0492793582\n",
            "epoch =    3, cost = 0.0349964499\n",
            "epoch =    4, cost = 0.0260172393\n",
            "epoch =    5, cost = 0.0222170558\n",
            "epoch =    6, cost = 0.0193982981\n",
            "epoch =    7, cost = 0.0161318015\n",
            "epoch =    8, cost = 0.0140052801\n",
            "epoch =    9, cost = 0.0107045565\n",
            "epoch =   10, cost = 0.0102375308\n",
            "epoch =   11, cost = 0.00947280135\n",
            "epoch =   12, cost = 0.00811980013\n",
            "epoch =   13, cost = 0.00900143851\n",
            "epoch =   14, cost = 0.00844216626\n",
            "epoch =   15, cost = 0.00659867702\n"
          ]
        }
      ]
    },
    {
      "cell_type": "code",
      "source": [
        "with torch.no_grad():\n",
        "  x_test = mnist_test.test_data.view(len(mnist_test),1,28,28).float().to(device)\n",
        "  y_test = mnist_test.test_labels.to(device)\n",
        "\n",
        "  prediction = model(x_test)\n",
        "  correct_prediction = torch.argmax(prediction, 1) == y_test\n",
        "  accuracy = correct_prediction.float().mean()\n",
        "  print('Acc : {}'.format(accuracy))"
      ],
      "metadata": {
        "colab": {
          "base_uri": "https://localhost:8080/"
        },
        "id": "Q1qmNqtxCXRc",
        "outputId": "d0741680-e27b-494f-d89c-4d6c1d766f57"
      },
      "execution_count": 101,
      "outputs": [
        {
          "output_type": "stream",
          "name": "stderr",
          "text": [
            "/usr/local/lib/python3.7/dist-packages/torchvision/datasets/mnist.py:67: UserWarning: test_data has been renamed data\n",
            "  warnings.warn(\"test_data has been renamed data\")\n",
            "/usr/local/lib/python3.7/dist-packages/torchvision/datasets/mnist.py:57: UserWarning: test_labels has been renamed targets\n",
            "  warnings.warn(\"test_labels has been renamed targets\")\n"
          ]
        },
        {
          "output_type": "stream",
          "name": "stdout",
          "text": [
            "Acc : 0.9840999841690063\n"
          ]
        }
      ]
    },
    {
      "cell_type": "code",
      "source": [
        ""
      ],
      "metadata": {
        "id": "HG3J-LRTHi78"
      },
      "execution_count": null,
      "outputs": []
    }
  ]
}